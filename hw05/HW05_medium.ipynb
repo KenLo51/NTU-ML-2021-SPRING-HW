{
 "cells": [
  {
   "cell_type": "markdown",
   "metadata": {
    "id": "C8X_cb1JENPD"
   },
   "source": [
    "# **Homework 5 - Sequence-to-sequence**\n",
    "\n",
    "If you have any questions, feel free to email us at: ntu-ml-2021spring-ta@googlegroups.com"
   ]
  },
  {
   "cell_type": "markdown",
   "metadata": {
    "id": "FxdO66_xENPF"
   },
   "source": [
    "### (4/21 Updates)\n",
    "1. Link to reference [training curves](https://wandb.ai/george0828zhang/hw5.seq2seq.new).\n",
    "\n",
    "### (4/14 Updates)\n",
    "1. Link to tutorial video [part 1](https://youtu.be/1pjS5_L5REI) [part 2](https://youtu.be/3XX9d0ymKgQ).\n",
    "2. Now defaults to load `\"avg_last_5_checkpoint.pt\"` to generate prediction.\n",
    "3. Expected run time on Colab with Tesla T4\n",
    "\n",
    "|Baseline|Details|Total Time|\n",
    "|-|:-:|:-:|\n",
    "|Simple|2m 15s $\\times$30 epochs|1hr 8m|\n",
    "|Medium|4m $\\times$30 epochs|2hr|\n",
    "|Strong|8m $\\times$30 epochs (backward)<br>+1hr (back-translation)<br>+15m $\\times$30 epochs (forward)|12hr 30m|"
   ]
  },
  {
   "cell_type": "markdown",
   "metadata": {
    "id": "OgH_escMENPG"
   },
   "source": [
    "# Sequence-to-Sequence Introduction\n",
    "- Typical sequence-to-sequence (seq2seq) models are encoder-decoder models, which usually consists of two parts, the encoder and decoder, respectively. These two parts can be implemented with recurrent neural network (RNN) or transformer, primarily to deal with input/output sequences of dynamic length.\n",
    "- **Encoder** encodes a sequence of inputs, such as text, video or audio, into a single vector, which can be viewed as the abstractive representation of the inputs, containing information of the whole sequence.\n",
    "- **Decoder** decodes the vector output of encoder one step at a time, until the final output sequence is complete. Every decoding step is affected by previous step(s). Generally, one would add \"< BOS >\" at the begining of the sequence to indicate start of decoding, and \"< EOS >\" at the end to indicate end of decoding.\n",
    "\n",
    "![seq2seq](https://i.imgur.com/0zeDyuI.png)"
   ]
  },
  {
   "cell_type": "markdown",
   "metadata": {
    "id": "FhiwaE3NENPG"
   },
   "source": [
    "# Homework Description\n",
    "- English to Chinese (Traditional) Translation\n",
    "  - Input: an English sentence         (e.g.\t\ttom is a student .)\n",
    "  - Output: the Chinese translation  (e.g. \t\t湯姆 是 個 學生 。)\n",
    "\n",
    "- TODO\n",
    "    - Train a simple RNN seq2seq to acheive translation\n",
    "    - Switch to transformer model to boost performance\n",
    "    - Apply Back-translation to furthur boost performance"
   ]
  },
  {
   "cell_type": "markdown",
   "metadata": {
    "id": "bB2kMfLvENPH"
   },
   "source": [
    "# Download and import required packages"
   ]
  },
  {
   "cell_type": "code",
   "execution_count": 117,
   "metadata": {
    "id": "2b3CuDQFENPH",
    "scrolled": true
   },
   "outputs": [],
   "source": [
    "#!pip install 'torch>=1.6.0' editdistance matplotlib sacrebleu sacremoses sentencepiece tqdm wandb\n",
    "#!pip install --upgrade jupyter ipywidgets"
   ]
  },
  {
   "cell_type": "code",
   "execution_count": 118,
   "metadata": {
    "id": "zRPNIyyNENPI",
    "scrolled": true
   },
   "outputs": [],
   "source": [
    "#!git clone https://github.com/pytorch/fairseq.git\n",
    "#!cd fairseq && git checkout 9a1c497\n",
    "#!pip install --upgrade ./fairseq/"
   ]
  },
  {
   "cell_type": "code",
   "execution_count": 119,
   "metadata": {
    "scrolled": true
   },
   "outputs": [],
   "source": [
    "#!conda install pytorch torchvision torchaudio pytorch-cuda=12.1 -c pytorch -c nvidia"
   ]
  },
  {
   "cell_type": "code",
   "execution_count": 120,
   "metadata": {
    "id": "c-O_lPVuENPI"
   },
   "outputs": [],
   "source": [
    "import sys\n",
    "import pdb\n",
    "import pprint\n",
    "import logging\n",
    "import os\n",
    "import random\n",
    "\n",
    "import torch\n",
    "import torch.nn as nn\n",
    "import torch.nn.functional as F\n",
    "from torch.utils import data\n",
    "import numpy as np\n",
    "import tqdm.auto as tqdm\n",
    "from pathlib import Path\n",
    "from argparse import Namespace\n",
    "from fairseq import utils\n",
    "\n",
    "import matplotlib.pyplot as plt"
   ]
  },
  {
   "cell_type": "markdown",
   "metadata": {
    "id": "dKhnBEjyENPJ"
   },
   "source": [
    "# Fix random seed"
   ]
  },
  {
   "cell_type": "code",
   "execution_count": 121,
   "metadata": {
    "id": "3hPmqy9LENPJ"
   },
   "outputs": [],
   "source": [
    "seed = 73\n",
    "random.seed(seed)\n",
    "torch.manual_seed(seed)\n",
    "if torch.cuda.is_available():\n",
    "    torch.cuda.manual_seed(seed)\n",
    "    torch.cuda.manual_seed_all(seed)\n",
    "np.random.seed(seed)\n",
    "torch.backends.cudnn.benchmark = False\n",
    "torch.backends.cudnn.deterministic = True"
   ]
  },
  {
   "cell_type": "markdown",
   "metadata": {
    "id": "H6_IwSZ3ENPJ"
   },
   "source": [
    "# Dataset Information\n",
    "\n",
    "## En-Zh Bilingual Parallel Corpus\n",
    "* [TED2020](#reimers-2020-multilingual-sentence-bert)\n",
    "    - Raw: 398,066 (sentences)   \n",
    "    - Processed: 393,980 (sentences)\n",
    "    \n",
    "\n",
    "## Testdata\n",
    "- Size: 4,000 (sentences)\n",
    "- **Chinese translation is undisclosed. The provided (.zh) file is psuedo translation, each line is a '。'**"
   ]
  },
  {
   "cell_type": "markdown",
   "metadata": {
    "id": "KPTpZ7NsENPK"
   },
   "source": [
    "# Dataset Download"
   ]
  },
  {
   "cell_type": "markdown",
   "metadata": {
    "id": "akJJBTZHENPK"
   },
   "source": [
    "## Install megatools (optional)"
   ]
  },
  {
   "cell_type": "code",
   "execution_count": 122,
   "metadata": {
    "id": "GKtXnPf4ENPK"
   },
   "outputs": [],
   "source": [
    "#!apt-get install megatools"
   ]
  },
  {
   "cell_type": "markdown",
   "metadata": {
    "id": "MXT75DSrENPK"
   },
   "source": [
    "## Download and extract"
   ]
  },
  {
   "cell_type": "code",
   "execution_count": 123,
   "metadata": {
    "id": "lCbFvW5TENPK"
   },
   "outputs": [],
   "source": [
    "data_dir = './DATA/rawdata'\n",
    "dataset_name = 'ted2020'\n",
    "urls = (\n",
    "    '\"https://onedrive.live.com/download?cid=3E549F3B24B238B4&resid=3E549F3B24B238B4%214989&authkey=AGgQ-DaR8eFSl1A\"',\n",
    "    '\"https://onedrive.live.com/download?cid=3E549F3B24B238B4&resid=3E549F3B24B238B4%214987&authkey=AA4qP_azsicwZZM\"',\n",
    "# # If the above links die, use the following instead.\n",
    "#     \"https://www.csie.ntu.edu.tw/~r09922057/ML2021-hw5/ted2020.tgz\",\n",
    "#     \"https://www.csie.ntu.edu.tw/~r09922057/ML2021-hw5/test.tgz\",\n",
    "# # If the above links die, use the following instead.\n",
    "#     \"https://mega.nz/#!vEcTCISJ!3Rw0eHTZWPpdHBTbQEqBDikDEdFPr7fI8WxaXK9yZ9U\",\n",
    "#     \"https://mega.nz/#!zNcnGIoJ!oPJX9AvVVs11jc0SaK6vxP_lFUNTkEcK2WbxJpvjU5Y\",\n",
    ")\n",
    "file_names = (\n",
    "    'ted2020.tgz', # train & dev\n",
    "    'test.tgz', # test\n",
    ")\n",
    "prefix = Path(data_dir).absolute() / dataset_name\n",
    "\n",
    "#prefix.mkdir(parents=True, exist_ok=True)\n",
    "#for u, f in zip(urls, file_names):\n",
    "#    path = prefix/f\n",
    "#    if not path.exists():\n",
    "#        if 'mega' in u:\n",
    "#            !megadl {u} --path {path}\n",
    "#        else:\n",
    "#            !wget {u} -O {path}\n",
    "#    if path.suffix == \".tgz\":\n",
    "#        !tar -xvf {path} -C {prefix}\n",
    "#    elif path.suffix == \".zip\":\n",
    "#        !unzip -o {path} -d {prefix}\n",
    "#!mv {prefix/'raw.en'} {prefix/'train_dev.raw.en'}\n",
    "#!mv {prefix/'raw.zh'} {prefix/'train_dev.raw.zh'}\n",
    "#!mv {prefix/'test.en'} {prefix/'test.raw.en'}\n",
    "#!mv {prefix/'test.zh'} {prefix/'test.raw.zh'}"
   ]
  },
  {
   "cell_type": "markdown",
   "metadata": {
    "id": "EUY2IzVWENPK"
   },
   "source": [
    "## Language"
   ]
  },
  {
   "cell_type": "code",
   "execution_count": 124,
   "metadata": {
    "id": "YX2qw0AfENPK"
   },
   "outputs": [],
   "source": [
    "src_lang = 'en'\n",
    "tgt_lang = 'zh'\n",
    "\n",
    "data_prefix = f'{prefix}/train_dev.raw'\n",
    "test_prefix = f'{prefix}/test.raw'"
   ]
  },
  {
   "cell_type": "code",
   "execution_count": 125,
   "metadata": {
    "id": "wlINb23lENPL"
   },
   "outputs": [
    {
     "name": "stdout",
     "output_type": "stream",
     "text": [
      "Thank you so much, Chris.\n",
      "And it's truly a great honor to have the opportunity to come to this stage twice; I'm extremely grateful.\n",
      "I have been blown away by this conference, and I want to thank all of you for the many nice comments about what I had to say the other night.\n",
      "And I say that sincerely, partly because  I need that.\n",
      "Put yourselves in my position.\n",
      "非常謝謝你，克里斯。能有這個機會第二度踏上這個演講台\n",
      "真是一大榮幸。我非常感激。\n",
      "這個研討會給我留下了極為深刻的印象，我想感謝大家 對我之前演講的好評。\n",
      "我是由衷的想這麼說，有部份原因是因為 —— 我真的有需要!\n",
      "請你們設身處地為我想一想！\n"
     ]
    }
   ],
   "source": [
    "!head {data_prefix+'.'+src_lang} -n 5\n",
    "!head {data_prefix+'.'+tgt_lang} -n 5"
   ]
  },
  {
   "cell_type": "markdown",
   "metadata": {
    "id": "9ZvzScoyENPL"
   },
   "source": [
    "## Preprocess files"
   ]
  },
  {
   "cell_type": "code",
   "execution_count": 126,
   "metadata": {
    "id": "DtMPGTozENPL"
   },
   "outputs": [],
   "source": [
    "import re\n",
    "\n",
    "def strQ2B(ustring):\n",
    "    \"\"\"Full width -> half width\"\"\"\n",
    "    # reference:https://ithelp.ithome.com.tw/articles/10233122\n",
    "    ss = []\n",
    "    for s in ustring:\n",
    "        rstring = \"\"\n",
    "        for uchar in s:\n",
    "            inside_code = ord(uchar)\n",
    "            if inside_code == 12288:  # Full width space: direct conversion\n",
    "                inside_code = 32\n",
    "            elif (inside_code >= 65281 and inside_code <= 65374):  # Full width chars (except space) conversion\n",
    "                inside_code -= 65248\n",
    "            rstring += chr(inside_code)\n",
    "        ss.append(rstring)\n",
    "    return ''.join(ss)\n",
    "\n",
    "def clean_s(s, lang):\n",
    "    if lang == 'en':\n",
    "        s = re.sub(r\"\\([^()]*\\)\", \"\", s) # remove ([text])\n",
    "        s = s.replace('-', '') # remove '-'\n",
    "        s = re.sub('([.,;!?()\\\"])', r' \\1 ', s) # keep punctuation\n",
    "    elif lang == 'zh':\n",
    "        s = strQ2B(s) # Q2B\n",
    "        s = re.sub(r\"\\([^()]*\\)\", \"\", s) # remove ([text])\n",
    "        s = s.replace(' ', '')\n",
    "        s = s.replace('—', '')\n",
    "        s = s.replace('“', '\"')\n",
    "        s = s.replace('”', '\"')\n",
    "        s = s.replace('_', '')\n",
    "        s = re.sub('([。,;!?()\\\"~「」])', r' \\1 ', s) # keep punctuation\n",
    "    s = ' '.join(s.strip().split())\n",
    "    return s\n",
    "\n",
    "def len_s(s, lang):\n",
    "    if lang == 'zh':\n",
    "        return len(s)\n",
    "    return len(s.split())\n",
    "\n",
    "def clean_corpus(prefix, l1, l2, ratio=9, max_len=1000, min_len=1):\n",
    "    if Path(f'{prefix}.clean.{l1}').exists() and Path(f'{prefix}.clean.{l2}').exists():\n",
    "        print(f'{prefix}.clean.{l1} & {l2} exists. skipping clean.')\n",
    "        return\n",
    "    with open(f'{prefix}.{l1}', 'r') as l1_in_f:\n",
    "        with open(f'{prefix}.{l2}', 'r') as l2_in_f:\n",
    "            with open(f'{prefix}.clean.{l1}', 'w') as l1_out_f:\n",
    "                with open(f'{prefix}.clean.{l2}', 'w') as l2_out_f:\n",
    "                    for s1 in l1_in_f:\n",
    "                        s1 = s1.strip()\n",
    "                        s2 = l2_in_f.readline().strip()\n",
    "                        s1 = clean_s(s1, l1)\n",
    "                        s2 = clean_s(s2, l2)\n",
    "                        s1_len = len_s(s1, l1)\n",
    "                        s2_len = len_s(s2, l2)\n",
    "                        if min_len > 0: # remove short sentence\n",
    "                            if s1_len < min_len or s2_len < min_len:\n",
    "                                continue\n",
    "                        if max_len > 0: # remove long sentence\n",
    "                            if s1_len > max_len or s2_len > max_len:\n",
    "                                continue\n",
    "                        if ratio > 0: # remove by ratio of length\n",
    "                            if s1_len/s2_len > ratio or s2_len/s1_len > ratio:\n",
    "                                continue\n",
    "                        print(s1, file=l1_out_f)\n",
    "                        print(s2, file=l2_out_f)"
   ]
  },
  {
   "cell_type": "code",
   "execution_count": 127,
   "metadata": {
    "id": "wT8zAfBWENPL"
   },
   "outputs": [
    {
     "name": "stdout",
     "output_type": "stream",
     "text": [
      "/mnt/e/Workspace/NSYSU/Lab/DATA/rawdata/ted2020/train_dev.raw.clean.en & zh exists. skipping clean.\n"
     ]
    }
   ],
   "source": [
    "clean_corpus(data_prefix, src_lang, tgt_lang)\n",
    "# clean_corpus(test_prefix, src_lang, tgt_lang, ratio=-1, min_len=-1, max_len=-1)"
   ]
  },
  {
   "cell_type": "code",
   "execution_count": 128,
   "metadata": {
    "id": "TJVlb4PJENPL"
   },
   "outputs": [
    {
     "name": "stdout",
     "output_type": "stream",
     "text": [
      "Thank you so much , Chris .\n",
      "And it's truly a great honor to have the opportunity to come to this stage twice ; I'm extremely grateful .\n",
      "I have been blown away by this conference , and I want to thank all of you for the many nice comments about what I had to say the other night .\n",
      "And I say that sincerely , partly because I need that .\n",
      "Put yourselves in my position .\n",
      "非常謝謝你 , 克里斯 。 能有這個機會第二度踏上這個演講台\n",
      "真是一大榮幸 。 我非常感激 。\n",
      "這個研討會給我留下了極為深刻的印象 , 我想感謝大家對我之前演講的好評 。\n",
      "我是由衷的想這麼說 , 有部份原因是因為我真的有需要 !\n",
      "請你們設身處地為我想一想 !\n"
     ]
    }
   ],
   "source": [
    "!head {data_prefix+'.clean.'+src_lang} -n 5\n",
    "!head {data_prefix+'.clean.'+tgt_lang} -n 5"
   ]
  },
  {
   "cell_type": "markdown",
   "metadata": {
    "id": "xtRpbGX0ENPL"
   },
   "source": [
    "## Split into train/valid"
   ]
  },
  {
   "cell_type": "code",
   "execution_count": 129,
   "metadata": {
    "id": "lRh3dLA9ENPL"
   },
   "outputs": [],
   "source": [
    "valid_ratio = 0.01 # 3000~4000 would suffice\n",
    "train_ratio = 1 - valid_ratio"
   ]
  },
  {
   "cell_type": "code",
   "execution_count": 130,
   "metadata": {
    "id": "yHZBonORENPM"
   },
   "outputs": [
    {
     "name": "stdout",
     "output_type": "stream",
     "text": [
      "train/valid splits exists. skipping split.\n"
     ]
    }
   ],
   "source": [
    "if (prefix/f'train.clean.{src_lang}').exists() \\\n",
    "and (prefix/f'train.clean.{tgt_lang}').exists() \\\n",
    "and (prefix/f'valid.clean.{src_lang}').exists() \\\n",
    "and (prefix/f'valid.clean.{tgt_lang}').exists():\n",
    "    print(f'train/valid splits exists. skipping split.')\n",
    "else:\n",
    "    line_num = sum(1 for line in open(f'{data_prefix}.clean.{src_lang}'))\n",
    "    labels = list(range(line_num))\n",
    "    random.shuffle(labels)\n",
    "    for lang in [src_lang, tgt_lang]:\n",
    "        train_f = open(os.path.join(data_dir, dataset_name, f'train.clean.{lang}'), 'w')\n",
    "        valid_f = open(os.path.join(data_dir, dataset_name, f'valid.clean.{lang}'), 'w')\n",
    "        count = 0\n",
    "        for line in open(f'{data_prefix}.clean.{lang}', 'r'):\n",
    "            if labels[count]/line_num < train_ratio:\n",
    "                train_f.write(line)\n",
    "            else:\n",
    "                valid_f.write(line)\n",
    "            count += 1\n",
    "        train_f.close()\n",
    "        valid_f.close()"
   ]
  },
  {
   "cell_type": "markdown",
   "metadata": {
    "id": "u53IIMHSENPM"
   },
   "source": [
    "## Subword Units\n",
    "Out of vocabulary (OOV) has been a major problem in machine translation. This can be alleviated by using subword units.\n",
    "- We will use the [sentencepiece](#kudo-richardson-2018-sentencepiece) package\n",
    "- select 'unigram' or 'byte-pair encoding (BPE)' algorithm"
   ]
  },
  {
   "cell_type": "code",
   "execution_count": 131,
   "metadata": {
    "id": "BHOAvALvENPM"
   },
   "outputs": [
    {
     "name": "stdout",
     "output_type": "stream",
     "text": [
      "/mnt/e/Workspace/NSYSU/Lab/DATA/rawdata/ted2020/spm8000.model exists. skipping spm_train.\n"
     ]
    }
   ],
   "source": [
    "import sentencepiece as spm\n",
    "vocab_size = 8000\n",
    "if (prefix/f'spm{vocab_size}.model').exists():\n",
    "    print(f'{prefix}/spm{vocab_size}.model exists. skipping spm_train.')\n",
    "else:\n",
    "    spm.SentencePieceTrainer.train(\n",
    "        input=','.join([f'{prefix}/train.clean.{src_lang}',\n",
    "                        f'{prefix}/valid.clean.{src_lang}',\n",
    "                        f'{prefix}/train.clean.{tgt_lang}',\n",
    "                        f'{prefix}/valid.clean.{tgt_lang}']),\n",
    "        model_prefix=prefix/f'spm{vocab_size}',\n",
    "        vocab_size=vocab_size,\n",
    "        character_coverage=1,\n",
    "        model_type='unigram', # 'bpe' works as well\n",
    "        input_sentence_size=1e6,\n",
    "        shuffle_input_sentence=True,\n",
    "        normalization_rule_name='nmt_nfkc_cf',\n",
    "    )"
   ]
  },
  {
   "cell_type": "code",
   "execution_count": 132,
   "metadata": {
    "id": "fo0PzFecENPM"
   },
   "outputs": [
    {
     "name": "stdout",
     "output_type": "stream",
     "text": [
      "/mnt/e/Workspace/NSYSU/Lab/DATA/rawdata/ted2020/train.en exists. skipping spm_encode.\n",
      "/mnt/e/Workspace/NSYSU/Lab/DATA/rawdata/ted2020/train.zh exists. skipping spm_encode.\n",
      "/mnt/e/Workspace/NSYSU/Lab/DATA/rawdata/ted2020/valid.en exists. skipping spm_encode.\n",
      "/mnt/e/Workspace/NSYSU/Lab/DATA/rawdata/ted2020/valid.zh exists. skipping spm_encode.\n"
     ]
    }
   ],
   "source": [
    "spm_model = spm.SentencePieceProcessor(model_file=str(prefix/f'spm{vocab_size}.model'))\n",
    "in_tag = {\n",
    "    'train': 'train.clean',\n",
    "    'valid': 'valid.clean',\n",
    "}\n",
    "for split in ['train', 'valid']:\n",
    "    for lang in [src_lang, tgt_lang]:\n",
    "        out_path = prefix/f'{split}.{lang}'\n",
    "        if out_path.exists():\n",
    "            print(f\"{out_path} exists. skipping spm_encode.\")\n",
    "        else:\n",
    "            with open(prefix/f'{split}.{lang}', 'w') as out_f:\n",
    "                with open(prefix/f'{in_tag[split]}.{lang}', 'r') as in_f:\n",
    "                    for line in in_f:\n",
    "                        line = line.strip()\n",
    "                        tok = spm_model.encode(line, out_type=str)\n",
    "                        print(' '.join(tok), file=out_f)"
   ]
  },
  {
   "cell_type": "code",
   "execution_count": 133,
   "metadata": {
    "id": "kdBK4dbyENPM"
   },
   "outputs": [
    {
     "name": "stdout",
     "output_type": "stream",
     "text": [
      "▁thank ▁you ▁so ▁much ▁, ▁chris ▁.\n",
      "▁and ▁it ' s ▁tr u ly ▁a ▁great ▁ho n or ▁to ▁have ▁the ▁opportunity ▁to ▁come ▁to ▁this ▁stage ▁ t wi ce ▁; ▁i ' m ▁extreme ly ▁gr ate ful ▁.\n",
      "▁i ▁have ▁been ▁ bl ow n ▁away ▁by ▁this ▁con f er ence ▁, ▁and ▁i ▁want ▁to ▁thank ▁all ▁of ▁you ▁for ▁the ▁many ▁ ni ce ▁ com ment s ▁about ▁what ▁i ▁had ▁to ▁say ▁the ▁other ▁night ▁.\n",
      "▁and ▁i ▁say ▁that ▁since re ly ▁, ▁part ly ▁because ▁i ▁need ▁that ▁.\n",
      "▁put ▁your s el ve s ▁in ▁my ▁po s ition ▁.\n",
      "▁ 非常 謝 謝 你 ▁, ▁ 克 里 斯 ▁。 ▁ 能 有 這個 機會 第二 度 踏 上 這個 演講 台\n",
      "▁ 真 是 一 大 榮 幸 ▁。 ▁我 非常 感 激 ▁。\n",
      "▁這個 研 討 會 給我 留 下 了 極 為 深 刻 的 印 象 ▁, ▁我想 感謝 大家 對 我 之前 演講 的 好 評 ▁。\n",
      "▁我 是由 衷 的 想 這麼 說 ▁, ▁有 部份 原因 是因為 我 真的 有 需要 ▁!\n",
      "▁ 請 你們 設 身 處 地 為 我想 一 想 ▁!\n"
     ]
    }
   ],
   "source": [
    "!head {data_dir+'/'+dataset_name+'/train.'+src_lang} -n 5\n",
    "!head {data_dir+'/'+dataset_name+'/train.'+tgt_lang} -n 5"
   ]
  },
  {
   "cell_type": "markdown",
   "metadata": {
    "id": "d0g3qOLXENPM"
   },
   "source": [
    "## Binarize the data with fairseq"
   ]
  },
  {
   "cell_type": "code",
   "execution_count": 134,
   "metadata": {
    "id": "qZ-hC2C5ENPM"
   },
   "outputs": [
    {
     "name": "stdout",
     "output_type": "stream",
     "text": [
      "DATA/data-bin/ted2020 exists, will not overwrite!\n"
     ]
    }
   ],
   "source": [
    "binpath = Path('./DATA/data-bin', dataset_name)\n",
    "if binpath.exists():\n",
    "    print(binpath, \"exists, will not overwrite!\")\n",
    "else:\n",
    "    !python -m fairseq_cli.preprocess \\\n",
    "        --source-lang {src_lang}\\\n",
    "        --target-lang {tgt_lang}\\\n",
    "        --trainpref {prefix/'train'}\\\n",
    "        --validpref {prefix/'valid'}\\\n",
    "        --destdir {binpath}\\\n",
    "        --joined-dictionary\\\n",
    "        --workers 2"
   ]
  },
  {
   "cell_type": "markdown",
   "metadata": {
    "id": "ybLUzaJKENPN"
   },
   "source": [
    "# Configuration for Experiments"
   ]
  },
  {
   "cell_type": "code",
   "execution_count": 135,
   "metadata": {
    "id": "pIZMjU1WENPN"
   },
   "outputs": [],
   "source": [
    "config = Namespace(\n",
    "    datadir = \"./DATA/data-bin/ted2020\",\n",
    "    savedir = \"./checkpoints/rnn\",\n",
    "    source_lang = \"en\",\n",
    "    target_lang = \"zh\",\n",
    "\n",
    "    # cpu threads when fetching & processing data.\n",
    "    num_workers=2,\n",
    "    # batch size in terms of tokens. gradient accumulation increases the effective batchsize.\n",
    "    max_tokens=8192,\n",
    "    accum_steps=2,\n",
    "\n",
    "    # the lr s calculated from Noam lr scheduler. you can tune the maximum lr by this factor.\n",
    "    lr_factor=2.,\n",
    "    lr_warmup=4000,\n",
    "\n",
    "    # clipping gradient norm helps alleviate gradient exploding\n",
    "    clip_norm=1.0,\n",
    "\n",
    "    # maximum epochs for training\n",
    "    max_epoch=30,\n",
    "    start_epoch=1,\n",
    "\n",
    "    # beam size for beam search\n",
    "    beam=5,\n",
    "    # generate sequences of maximum length ax + b, where x is the source length\n",
    "    max_len_a=1.2,\n",
    "    max_len_b=10,\n",
    "    # when decoding, post process sentence by removing sentencepiece symbols and jieba tokenization.\n",
    "    post_process = \"sentencepiece\",\n",
    "\n",
    "    # checkpoints\n",
    "    keep_last_epochs=5,\n",
    "    resume=None, # if resume from checkpoint name (under config.savedir)\n",
    "\n",
    "    # logging\n",
    "    use_wandb=False,\n",
    ")"
   ]
  },
  {
   "cell_type": "markdown",
   "metadata": {
    "id": "VZUPPA_KENPN"
   },
   "source": [
    "# Logging\n",
    "- logging package logs ordinary messages\n",
    "- wandb logs the loss, bleu, etc. in the training process"
   ]
  },
  {
   "cell_type": "code",
   "execution_count": 136,
   "metadata": {
    "id": "bc1pPKV9ENPN",
    "scrolled": true
   },
   "outputs": [],
   "source": [
    "logging.basicConfig(\n",
    "    format=\"%(asctime)s | %(levelname)s | %(name)s | %(message)s\",\n",
    "    datefmt=\"%Y-%m-%d %H:%M:%S\",\n",
    "    level=\"INFO\", # \"DEBUG\" \"WARNING\" \"ERROR\"\n",
    "    stream=sys.stdout,\n",
    ")\n",
    "proj = \"hw5.seq2seq\"\n",
    "logger = logging.getLogger(proj)\n",
    "if config.use_wandb:\n",
    "    import wandb\n",
    "    wandb.init(project=proj, name=Path(config.savedir).stem, config=config)"
   ]
  },
  {
   "cell_type": "markdown",
   "metadata": {
    "id": "qVJEicfTENPN"
   },
   "source": [
    "# CUDA Environment"
   ]
  },
  {
   "cell_type": "code",
   "execution_count": 137,
   "metadata": {
    "id": "rzIYrOc6ENPN"
   },
   "outputs": [
    {
     "name": "stdout",
     "output_type": "stream",
     "text": [
      "Using cuda with device-0 (NVIDIA GeForce RTX 3070)\n"
     ]
    }
   ],
   "source": [
    "#cuda_env = utils.CudaEnvironment()\n",
    "#utils.CudaEnvironment.pretty_print_cuda_env_list([cuda_env])\n",
    "#device = torch.device('cuda:1' if torch.cuda.is_available() else 'cpu')\n",
    "\n",
    "# get devices\n",
    "gpuIdx = 0\n",
    "deviceGPU = torch.device(f\"cuda:{gpuIdx}\")\n",
    "deviceCPU = torch.device(\"cpu:0\")\n",
    "\n",
    "device = deviceCPU\n",
    "if torch.cuda.is_available():\n",
    "    device = deviceGPU\n",
    "    print(f\"Using cuda with device-{gpuIdx} ({torch.cuda.get_device_name(gpuIdx)})\")\n",
    "else:\n",
    "    cpuName = subprocess.check_output([\"wmic\",\"cpu\",\"get\", \"name\"]).decode(\"utf8\").strip().split(\"\\n\")[1]\n",
    "    print(f\"Using CPU ({cpuName})\")"
   ]
  },
  {
   "cell_type": "markdown",
   "metadata": {
    "id": "iInBRNcSENPN"
   },
   "source": [
    "# Dataloading"
   ]
  },
  {
   "cell_type": "markdown",
   "metadata": {
    "id": "xR_HnyJbENPR"
   },
   "source": [
    "## We borrow the TranslationTask from fairseq\n",
    "* used to load the binarized data created above\n",
    "* well-implemented data iterator (dataloader)\n",
    "* built-in task.source_dictionary and task.target_dictionary are also handy\n",
    "* well-implemented beach search decoder"
   ]
  },
  {
   "cell_type": "code",
   "execution_count": 138,
   "metadata": {
    "id": "gOA-8wgEENPR"
   },
   "outputs": [
    {
     "name": "stderr",
     "output_type": "stream",
     "text": [
      "2024-07-19 16:02:48 | INFO | fairseq.tasks.translation | [en] dictionary: 7992 types\n",
      "2024-07-19 16:02:48 | INFO | fairseq.tasks.translation | [zh] dictionary: 7992 types\n"
     ]
    }
   ],
   "source": [
    "from fairseq.tasks.translation import TranslationConfig, TranslationTask\n",
    "\n",
    "## setup task\n",
    "task_cfg = TranslationConfig(\n",
    "    data=config.datadir,\n",
    "    source_lang=config.source_lang,\n",
    "    target_lang=config.target_lang,\n",
    "    train_subset=\"train\",\n",
    "    required_seq_len_multiple=8,\n",
    "    dataset_impl=\"mmap\",\n",
    "    upsample_primary=1,\n",
    ")\n",
    "task = TranslationTask.setup_task(task_cfg)"
   ]
  },
  {
   "cell_type": "code",
   "execution_count": 139,
   "metadata": {
    "id": "WQ8TlM5pENPR"
   },
   "outputs": [
    {
     "name": "stderr",
     "output_type": "stream",
     "text": [
      "2024-07-19 16:02:48 | INFO | hw5.seq2seq | loading data for epoch 1\n",
      "2024-07-19 16:02:48 | INFO | fairseq.data.data_utils | loaded 390,041 examples from: ./DATA/data-bin/ted2020/train.en-zh.en\n",
      "2024-07-19 16:02:48 | INFO | fairseq.data.data_utils | loaded 390,041 examples from: ./DATA/data-bin/ted2020/train.en-zh.zh\n",
      "2024-07-19 16:02:48 | INFO | fairseq.tasks.translation | ./DATA/data-bin/ted2020 train en-zh 390041 examples\n",
      "2024-07-19 16:02:48 | INFO | fairseq.data.data_utils | loaded 3,939 examples from: ./DATA/data-bin/ted2020/valid.en-zh.en\n",
      "2024-07-19 16:02:48 | INFO | fairseq.data.data_utils | loaded 3,939 examples from: ./DATA/data-bin/ted2020/valid.en-zh.zh\n",
      "2024-07-19 16:02:48 | INFO | fairseq.tasks.translation | ./DATA/data-bin/ted2020 valid en-zh 3939 examples\n"
     ]
    }
   ],
   "source": [
    "logger.info(\"loading data for epoch 1\")\n",
    "task.load_dataset(split=\"train\", epoch=1, combine=True) # combine if you have back-translation data.\n",
    "task.load_dataset(split=\"valid\", epoch=1)"
   ]
  },
  {
   "cell_type": "code",
   "execution_count": 140,
   "metadata": {
    "id": "oK09cv8GENPR"
   },
   "outputs": [
    {
     "name": "stdout",
     "output_type": "stream",
     "text": [
      "{'id': 1,\n",
      " 'source': tensor([  56,   32,   26,  113, 2234,  114,   84,  157,    7,   22,  855,   86,\n",
      "           7,    2]),\n",
      " 'target': tensor([ 313,  432,  381, 3573,    4,   50,  147, 2412,  272,    2])}\n",
      "'Source: but this is our front porch . we live there .'\n",
      "'Target: 這是我們的前庭 , 我們就住在那'\n"
     ]
    }
   ],
   "source": [
    "sample = task.dataset(\"valid\")[1]\n",
    "pprint.pprint(sample)\n",
    "pprint.pprint(\n",
    "    \"Source: \" + \\\n",
    "    task.source_dictionary.string(\n",
    "        sample['source'],\n",
    "        config.post_process,\n",
    "    )\n",
    ")\n",
    "pprint.pprint(\n",
    "    \"Target: \" + \\\n",
    "    task.target_dictionary.string(\n",
    "        sample['target'],\n",
    "        config.post_process,\n",
    "    )\n",
    ")"
   ]
  },
  {
   "cell_type": "markdown",
   "metadata": {
    "id": "GdIRjs3XENPR"
   },
   "source": [
    "## Dataset Iterator"
   ]
  },
  {
   "cell_type": "markdown",
   "metadata": {
    "id": "nsQD03UFENPR"
   },
   "source": [
    "* Controls every batch to contain no more than N tokens, which optimizes GPU memory efficiency\n",
    "* Shuffles the training set for every epoch\n",
    "* Ignore sentences exceeding maximum length\n",
    "* Pad all sentences in a batch to the same length, which enables parallel computing by GPU\n",
    "* Add eos and shift one token\n",
    "    - teacher forcing: to train the model to predict the next token based on prefix, we feed the right shifted target sequence as the decoder input.\n",
    "    - generally, prepending bos to the target would do the job (as shown below)\n",
    "![seq2seq](https://i.imgur.com/0zeDyuI.png)\n",
    "    - in fairseq however, this is done by moving the eos token to the begining. Empirically, this has the same effect. For instance:\n",
    "    ```\n",
    "    # output target (target) and Decoder input (prev_output_tokens):\n",
    "                   eos = 2\n",
    "                target = 419,  711,  238,  888,  792,   60,  968,    8,    2\n",
    "    prev_output_tokens = 2,  419,  711,  238,  888,  792,   60,  968,    8\n",
    "    ```\n"
   ]
  },
  {
   "cell_type": "code",
   "execution_count": 141,
   "metadata": {
    "id": "THWcI-A3ENPR"
   },
   "outputs": [
    {
     "name": "stderr",
     "output_type": "stream",
     "text": [
      "2024-07-19 16:02:49 | WARNING | fairseq.tasks.fairseq_task | 2,583 samples have invalid sizes and will be skipped, max_positions=(20, 20), first few sample ids=[329, 743, 3501, 2681, 3687, 740, 3068, 3532, 2760, 3262]\n"
     ]
    },
    {
     "data": {
      "text/plain": [
       "{'id': tensor([1073]),\n",
       " 'nsentences': 1,\n",
       " 'ntokens': 15,\n",
       " 'net_input': {'src_tokens': tensor([[   1,    1,    1,    1,    1,    1,   56,   20,   26,  103,    5,  319,\n",
       "             24,   71,  244,   23, 1018,  808, 1734,   40,    9, 1293,    7,    2]]),\n",
       "  'src_lengths': tensor([18]),\n",
       "  'prev_output_tokens': tensor([[   2,    5, 1376, 1339, 1086,    4, 2829,   48,  296, 2596, 1833,    8,\n",
       "           2408, 2054,   10,    1]])},\n",
       " 'target': tensor([[   5, 1376, 1339, 1086,    4, 2829,   48,  296, 2596, 1833,    8, 2408,\n",
       "          2054,   10,    2,    1]])}"
      ]
     },
     "execution_count": 141,
     "metadata": {},
     "output_type": "execute_result"
    }
   ],
   "source": [
    "def load_data_iterator(task, split, epoch=1, max_tokens=4000, num_workers=1, cached=True):\n",
    "    batch_iterator = task.get_batch_iterator(\n",
    "        dataset=task.dataset(split),\n",
    "        max_tokens=max_tokens,\n",
    "        max_sentences=None,\n",
    "        max_positions=utils.resolve_max_positions(\n",
    "            task.max_positions(),\n",
    "            max_tokens,\n",
    "        ),\n",
    "        ignore_invalid_inputs=True,\n",
    "        seed=seed,\n",
    "        num_workers=num_workers,\n",
    "        epoch=epoch,\n",
    "        disable_iterator_cache=not cached,\n",
    "        # Set this to False to speed up. However, if set to False, changing max_tokens beyond\n",
    "        # first call of this method has no effect.\n",
    "    )\n",
    "    return batch_iterator\n",
    "\n",
    "demo_epoch_obj = load_data_iterator(task, \"valid\", epoch=1, max_tokens=20, num_workers=1, cached=False)\n",
    "demo_iter = demo_epoch_obj.next_epoch_itr(shuffle=True)\n",
    "sample = next(demo_iter)\n",
    "sample"
   ]
  },
  {
   "cell_type": "markdown",
   "metadata": {
    "id": "d5sBHvpFENPS"
   },
   "source": [
    "* each batch is a python dict, with string key and Tensor value. Contents are described below:\n",
    "```python\n",
    "batch = {\n",
    "    \"id\": id, # id for each example\n",
    "    \"nsentences\": len(samples), # batch size (sentences)\n",
    "    \"ntokens\": ntokens, # batch size (tokens)\n",
    "    \"net_input\": {\n",
    "        \"src_tokens\": src_tokens, # sequence in source language\n",
    "        \"src_lengths\": src_lengths, # sequence length of each example before padding\n",
    "        \"prev_output_tokens\": prev_output_tokens, # right shifted target, as mentioned above.\n",
    "    },\n",
    "    \"target\": target, # target sequence\n",
    "}\n",
    "```"
   ]
  },
  {
   "cell_type": "markdown",
   "metadata": {
    "id": "vWgl3xJOENPS"
   },
   "source": [
    "# Model Architecture\n",
    "* We again inherit fairseq's encoder, decoder and model, so that in the testing phase we can directly leverage fairseq's beam search decoder."
   ]
  },
  {
   "cell_type": "code",
   "execution_count": 142,
   "metadata": {
    "id": "G_JvEBPKENPS"
   },
   "outputs": [],
   "source": [
    "from fairseq.models import (\n",
    "    FairseqEncoder,\n",
    "    FairseqIncrementalDecoder,\n",
    "    FairseqEncoderDecoderModel\n",
    ")"
   ]
  },
  {
   "cell_type": "markdown",
   "metadata": {
    "id": "TcyG9BBaENPS"
   },
   "source": [
    "## Encoder"
   ]
  },
  {
   "cell_type": "markdown",
   "metadata": {
    "id": "scFJTxsjENPS"
   },
   "source": [
    "- The Encoder is a RNN or Transformer Encoder. The following description is for RNN. For every input token, Encoder will generate a output vector and a hidden states vector, and the hidden states vector is passed on to the next step. In other words, the Encoder sequentially reads in the input sequence, and outputs a single vector at each timestep, then finally outputs the final hidden states, or content vector, at the last timestep.\n",
    "- Parameters:\n",
    "  - *args*\n",
    "      - encoder_embed_dim: the dimension of embeddings, this compresses the one-hot vector into fixed dimensions, which achieves dimension reduction\n",
    "      - encoder_ffn_embed_dim is the dimension of hidden states and output vectors\n",
    "      - encoder_layers is the number of layers for Encoder RNN\n",
    "      - dropout determines the probability of a neuron's activation being set to 0, in order to prevent overfitting. Generally this is applied in training, and removed in testing.\n",
    "  - *dictionary*: the dictionary provided by fairseq. it's used to obtain the padding index, and in turn the encoder padding mask.\n",
    "  - *embed_tokens*: an instance of token embeddings (nn.Embedding)\n",
    "\n",
    "- Inputs:\n",
    "    - *src_tokens*: integer sequence representing english e.g. 1, 28, 29, 205, 2\n",
    "- Outputs:\n",
    "    - *outputs*: the output of RNN at each timestep, can be furthur processed by Attention\n",
    "    - *final_hiddens*: the hidden states of each timestep, will be passed to decoder for decoding\n",
    "    - *encoder_padding_mask*: this tells the decoder which position to ignore\n"
   ]
  },
  {
   "cell_type": "code",
   "execution_count": 143,
   "metadata": {
    "id": "aAqqyf9_ENPS"
   },
   "outputs": [],
   "source": [
    "class RNNEncoder(FairseqEncoder):\n",
    "    def __init__(self, args, dictionary, embed_tokens):\n",
    "        super().__init__(dictionary)\n",
    "        self.embed_tokens = embed_tokens\n",
    "\n",
    "        self.embed_dim = args.encoder_embed_dim\n",
    "        self.hidden_dim = args.encoder_ffn_embed_dim\n",
    "        self.num_layers = args.encoder_layers\n",
    "\n",
    "        self.dropout_in_module = nn.Dropout(args.dropout)\n",
    "        self.rnn = nn.GRU(\n",
    "            self.embed_dim,\n",
    "            self.hidden_dim,\n",
    "            self.num_layers,\n",
    "            dropout=args.dropout,\n",
    "            batch_first=False,\n",
    "            bidirectional=True\n",
    "        )\n",
    "        self.dropout_out_module = nn.Dropout(args.dropout)\n",
    "\n",
    "        self.padding_idx = dictionary.pad()\n",
    "\n",
    "    def combine_bidir(self, outs, bsz: int):\n",
    "        out = outs.view(self.num_layers, 2, bsz, -1).transpose(1, 2).contiguous()\n",
    "        return out.view(self.num_layers, bsz, -1)\n",
    "\n",
    "    def forward(self, src_tokens, **unused):\n",
    "        bsz, seqlen = src_tokens.size()\n",
    "\n",
    "        # get embeddings\n",
    "        x = self.embed_tokens(src_tokens)\n",
    "        x = self.dropout_in_module(x)\n",
    "\n",
    "        # B x T x C -> T x B x C\n",
    "        x = x.transpose(0, 1)\n",
    "\n",
    "        # pass thru bidirectional RNN\n",
    "        h0 = x.new_zeros(2 * self.num_layers, bsz, self.hidden_dim)\n",
    "        x, final_hiddens = self.rnn(x, h0)\n",
    "        outputs = self.dropout_out_module(x)\n",
    "        # outputs = [sequence len, batch size, hid dim * directions]\n",
    "        # hidden =  [num_layers * directions, batch size  , hid dim]\n",
    "\n",
    "        # Since Encoder is bidirectional, we need to concatenate the hidden states of two directions\n",
    "        final_hiddens = self.combine_bidir(final_hiddens, bsz)\n",
    "        # hidden =  [num_layers x batch x num_directions*hidden]\n",
    "\n",
    "        encoder_padding_mask = src_tokens.eq(self.padding_idx).t()\n",
    "        return tuple(\n",
    "            (\n",
    "                outputs,  # seq_len x batch x hidden\n",
    "                final_hiddens,  # num_layers x batch x num_directions*hidden\n",
    "                encoder_padding_mask,  # seq_len x batch\n",
    "            )\n",
    "        )\n",
    "\n",
    "    def reorder_encoder_out(self, encoder_out, new_order):\n",
    "        # This is used by fairseq's beam search. How and why is not particularly important here.\n",
    "        return tuple(\n",
    "            (\n",
    "                encoder_out[0].index_select(1, new_order),\n",
    "                encoder_out[1].index_select(1, new_order),\n",
    "                encoder_out[2].index_select(1, new_order),\n",
    "            )\n",
    "        )"
   ]
  },
  {
   "cell_type": "markdown",
   "metadata": {
    "id": "qmXJiRfnENPT"
   },
   "source": [
    "## Attention"
   ]
  },
  {
   "cell_type": "markdown",
   "metadata": {
    "id": "GT77qMQ4ENPT"
   },
   "source": [
    "- When the input sequence is long, \"content vector\" alone cannot accurately represent the whole sequence, attention mechanism can provide the Decoder more information.\n",
    "- According to the **Decoder embeddings** of the current timestep, match the **Encoder outputs** with decoder embeddings to determine correlation, and then sum the Encoder outputs weighted by the correlation as the input to **Decoder** RNN.\n",
    "- Common attention implementations use neural network / dot product as the correlation between **query** (decoder embeddings) and **key** (Encoder outputs), followed by **softmax**  to obtain a distribution, and finally **values** (Encoder outputs) is **weighted sum**-ed by said distribution.\n",
    "\n",
    "- Parameters:\n",
    "  - *input_embed_dim*: dimensionality of key, should be that of the vector in decoder to attend others\n",
    "  - *source_embed_dim*: dimensionality of query, should be that of the vector to be attended to (encoder outputs)\n",
    "  - *output_embed_dim*: dimensionality of value, should be that of the vector after attention, expected by the next layer\n",
    "\n",
    "- Inputs:\n",
    "    - *inputs*: is the key, the vector to attend to others\n",
    "    - *encoder_outputs*:  is the query/value, the vector to be attended to\n",
    "    - *encoder_padding_mask*: this tells the decoder which position to ignore\n",
    "- Outputs:\n",
    "    - *output*: the context vector after attention\n",
    "    - *attention score*: the attention distribution\n"
   ]
  },
  {
   "cell_type": "code",
   "execution_count": 144,
   "metadata": {
    "id": "ckLeDO1TENPT"
   },
   "outputs": [],
   "source": [
    "class AttentionLayer(nn.Module):\n",
    "    def __init__(self, input_embed_dim, source_embed_dim, output_embed_dim, bias=False):\n",
    "        super().__init__()\n",
    "\n",
    "        self.input_proj = nn.Linear(input_embed_dim, source_embed_dim, bias=bias)\n",
    "        self.output_proj = nn.Linear(\n",
    "            input_embed_dim + source_embed_dim, output_embed_dim, bias=bias\n",
    "        )\n",
    "\n",
    "    def forward(self, inputs, encoder_outputs, encoder_padding_mask):\n",
    "        # inputs: T, B, dim\n",
    "        # encoder_outputs: S x B x dim\n",
    "        # padding mask:  S x B\n",
    "\n",
    "        # convert all to batch first\n",
    "        inputs = inputs.transpose(1,0) # B, T, dim\n",
    "        encoder_outputs = encoder_outputs.transpose(1,0) # B, S, dim\n",
    "        encoder_padding_mask = encoder_padding_mask.transpose(1,0) # B, S\n",
    "\n",
    "        # project to the dimensionality of encoder_outputs\n",
    "        x = self.input_proj(inputs)\n",
    "\n",
    "        # compute attention\n",
    "        # (B, T, dim) x (B, dim, S) = (B, T, S)\n",
    "        attn_scores = torch.bmm(x, encoder_outputs.transpose(1,2))\n",
    "\n",
    "        # cancel the attention at positions corresponding to padding\n",
    "        if encoder_padding_mask is not None:\n",
    "            # leveraging broadcast  B, S -> (B, 1, S)\n",
    "            encoder_padding_mask = encoder_padding_mask.unsqueeze(1)\n",
    "            attn_scores = (\n",
    "                attn_scores.float()\n",
    "                .masked_fill_(encoder_padding_mask, float(\"-inf\"))\n",
    "                .type_as(attn_scores)\n",
    "            )  # FP16 support: cast to float and back\n",
    "\n",
    "        # softmax on the dimension corresponding to source sequence\n",
    "        attn_scores = F.softmax(attn_scores, dim=-1)\n",
    "\n",
    "        # shape (B, T, S) x (B, S, dim) = (B, T, dim) weighted sum\n",
    "        x = torch.bmm(attn_scores, encoder_outputs)\n",
    "\n",
    "        # (B, T, dim)\n",
    "        x = torch.cat((x, inputs), dim=-1)\n",
    "        x = torch.tanh(self.output_proj(x)) # concat + linear + tanh\n",
    "\n",
    "        # restore shape (B, T, dim) -> (T, B, dim)\n",
    "        return x.transpose(1,0), attn_scores"
   ]
  },
  {
   "cell_type": "markdown",
   "metadata": {
    "id": "hDymqdJJENPT"
   },
   "source": [
    "## Decoder"
   ]
  },
  {
   "cell_type": "markdown",
   "metadata": {
    "id": "YQ0an88CENPT"
   },
   "source": [
    "* The hidden states of **Decoder** will be initialized by the final hidden states of **Encoder** (the content vector)\n",
    "* At the same time, **Decoder** will change its hidden states based on the input of the current timestep (the outputs of previous timesteps), and generates an output\n",
    "* Attention improves the performance\n",
    "* The seq2seq steps are implemented in decoder, so that later the Seq2Seq class can accept RNN and Transformer, without furthur modification.\n",
    "- Parameters:\n",
    "  - *args*\n",
    "      - decoder_embed_dim: is the dimensionality of the decoder embeddings, similar to encoder_embed_dim，\n",
    "      - decoder_ffn_embed_dim: is the dimensionality of the decoder RNN hidden states, similar to encoder_ffn_embed_dim\n",
    "      - decoder_layers: number of layers of RNN decoder\n",
    "      - share_decoder_input_output_embed: usually, the projection matrix of the decoder will share weights with the decoder input embeddings\n",
    "  - *dictionary*: the dictionary provided by fairseq\n",
    "  - *embed_tokens*: an instance of token embeddings (nn.Embedding)\n",
    "- Inputs:\n",
    "    - *prev_output_tokens*: integer sequence representing the right-shifted target e.g. 1, 28, 29, 205, 2\n",
    "    - *encoder_out*: encoder's output.\n",
    "    - *incremental_state*: in order to speed up decoding during test time, we will save the hidden state of each timestep. see forward() for details.\n",
    "- Outputs:\n",
    "    - *outputs*: the logits (before softmax) output of decoder for each timesteps\n",
    "    - *extra*: unsused"
   ]
  },
  {
   "cell_type": "code",
   "execution_count": 145,
   "metadata": {
    "id": "-UeBTJqVENPT"
   },
   "outputs": [],
   "source": [
    "class RNNDecoder(FairseqIncrementalDecoder):\n",
    "    def __init__(self, args, dictionary, embed_tokens):\n",
    "        super().__init__(dictionary)\n",
    "        self.embed_tokens = embed_tokens\n",
    "\n",
    "        assert args.decoder_layers == args.encoder_layers, f\"\"\"seq2seq rnn requires that encoder\n",
    "        and decoder have same layers of rnn. got: {args.encoder_layers, args.decoder_layers}\"\"\"\n",
    "        assert args.decoder_ffn_embed_dim == args.encoder_ffn_embed_dim*2, f\"\"\"seq2seq-rnn requires\n",
    "        that decoder hidden to be 2*encoder hidden dim. got: {args.decoder_ffn_embed_dim, args.encoder_ffn_embed_dim*2}\"\"\"\n",
    "\n",
    "        self.embed_dim = args.decoder_embed_dim\n",
    "        self.hidden_dim = args.decoder_ffn_embed_dim\n",
    "        self.num_layers = args.decoder_layers\n",
    "\n",
    "\n",
    "        self.dropout_in_module = nn.Dropout(args.dropout)\n",
    "        self.rnn = nn.GRU(\n",
    "            self.embed_dim,\n",
    "            self.hidden_dim,\n",
    "            self.num_layers,\n",
    "            dropout=args.dropout,\n",
    "            batch_first=False,\n",
    "            bidirectional=False\n",
    "        )\n",
    "        self.attention = AttentionLayer(\n",
    "            self.embed_dim, self.hidden_dim, self.embed_dim, bias=False\n",
    "        )\n",
    "        # self.attention = None\n",
    "        self.dropout_out_module = nn.Dropout(args.dropout)\n",
    "\n",
    "        if self.hidden_dim != self.embed_dim:\n",
    "            self.project_out_dim = nn.Linear(self.hidden_dim, self.embed_dim)\n",
    "        else:\n",
    "            self.project_out_dim = None\n",
    "\n",
    "        if args.share_decoder_input_output_embed:\n",
    "            self.output_projection = nn.Linear(\n",
    "                self.embed_tokens.weight.shape[1],\n",
    "                self.embed_tokens.weight.shape[0],\n",
    "                bias=False,\n",
    "            )\n",
    "            self.output_projection.weight = self.embed_tokens.weight\n",
    "        else:\n",
    "            self.output_projection = nn.Linear(\n",
    "                self.output_embed_dim, len(dictionary), bias=False\n",
    "            )\n",
    "            nn.init.normal_(\n",
    "                self.output_projection.weight, mean=0, std=self.output_embed_dim ** -0.5\n",
    "            )\n",
    "\n",
    "    def forward(self, prev_output_tokens, encoder_out, incremental_state=None, **unused):\n",
    "        # extract the outputs from encoder\n",
    "        encoder_outputs, encoder_hiddens, encoder_padding_mask = encoder_out\n",
    "        # outputs:          seq_len x batch x num_directions*hidden\n",
    "        # encoder_hiddens:  num_layers x batch x num_directions*encoder_hidden\n",
    "        # padding_mask:     seq_len x batch\n",
    "\n",
    "        if incremental_state is not None and len(incremental_state) > 0:\n",
    "            # if the information from last timestep is retained, we can continue from there instead of starting from bos\n",
    "            prev_output_tokens = prev_output_tokens[:, -1:]\n",
    "            cache_state = self.get_incremental_state(incremental_state, \"cached_state\")\n",
    "            prev_hiddens = cache_state[\"prev_hiddens\"]\n",
    "        else:\n",
    "            # incremental state does not exist, either this is training time, or the first timestep of test time\n",
    "            # prepare for seq2seq: pass the encoder_hidden to the decoder hidden states\n",
    "            prev_hiddens = encoder_hiddens\n",
    "\n",
    "        bsz, seqlen = prev_output_tokens.size()\n",
    "\n",
    "        # embed tokens\n",
    "        x = self.embed_tokens(prev_output_tokens)\n",
    "        x = self.dropout_in_module(x)\n",
    "\n",
    "        # B x T x C -> T x B x C\n",
    "        x = x.transpose(0, 1)\n",
    "\n",
    "        # decoder-to-encoder attention\n",
    "        if self.attention is not None:\n",
    "            x, attn = self.attention(x, encoder_outputs, encoder_padding_mask)\n",
    "\n",
    "        # pass thru unidirectional RNN\n",
    "        x, final_hiddens = self.rnn(x, prev_hiddens)\n",
    "        # outputs = [sequence len, batch size, hid dim]\n",
    "        # hidden =  [num_layers * directions, batch size  , hid dim]\n",
    "        x = self.dropout_out_module(x)\n",
    "\n",
    "        # project to embedding size (if hidden differs from embed size, and share_embedding is True,\n",
    "        # we need to do an extra projection)\n",
    "        if self.project_out_dim != None:\n",
    "            x = self.project_out_dim(x)\n",
    "\n",
    "        # project to vocab size\n",
    "        x = self.output_projection(x)\n",
    "\n",
    "        # T x B x C -> B x T x C\n",
    "        x = x.transpose(1, 0)\n",
    "\n",
    "        # if incremental, record the hidden states of current timestep, which will be restored in the next timestep\n",
    "        cache_state = {\n",
    "            \"prev_hiddens\": final_hiddens,\n",
    "        }\n",
    "        self.set_incremental_state(incremental_state, \"cached_state\", cache_state)\n",
    "\n",
    "        return x, None\n",
    "\n",
    "    def reorder_incremental_state(\n",
    "        self,\n",
    "        incremental_state,\n",
    "        new_order,\n",
    "    ):\n",
    "        # This is used by fairseq's beam search. How and why is not particularly important here.\n",
    "        cache_state = self.get_incremental_state(incremental_state, \"cached_state\")\n",
    "        prev_hiddens = cache_state[\"prev_hiddens\"]\n",
    "        prev_hiddens = [p.index_select(0, new_order) for p in prev_hiddens]\n",
    "        cache_state = {\n",
    "            \"prev_hiddens\": torch.stack(prev_hiddens),\n",
    "        }\n",
    "        self.set_incremental_state(incremental_state, \"cached_state\", cache_state)\n",
    "        return"
   ]
  },
  {
   "cell_type": "markdown",
   "metadata": {
    "id": "I4QeBbShENPU"
   },
   "source": [
    "## Seq2Seq\n",
    "- Composed of **Encoder** and **Decoder**\n",
    "- Recieves inputs and pass to **Encoder**\n",
    "- Pass the outputs from **Encoder** to **Decoder**\n",
    "- **Decoder** will decode according to outputs of previous timesteps as well as **Encoder** outputs  \n",
    "- Once done decoding, return the **Decoder** outputs"
   ]
  },
  {
   "cell_type": "code",
   "execution_count": 146,
   "metadata": {
    "id": "gyFiUFWJENPU"
   },
   "outputs": [],
   "source": [
    "class Seq2Seq(FairseqEncoderDecoderModel):\n",
    "    def __init__(self, args, encoder, decoder):\n",
    "        super().__init__(encoder, decoder)\n",
    "        self.args = args\n",
    "\n",
    "    def forward(\n",
    "        self,\n",
    "        src_tokens,\n",
    "        src_lengths,\n",
    "        prev_output_tokens,\n",
    "        return_all_hiddens: bool = True,\n",
    "    ):\n",
    "        \"\"\"\n",
    "        Run the forward pass for an encoder-decoder model.\n",
    "        \"\"\"\n",
    "        encoder_out = self.encoder(\n",
    "            src_tokens, src_lengths=src_lengths, return_all_hiddens=return_all_hiddens\n",
    "        )\n",
    "        logits, extra = self.decoder(\n",
    "            prev_output_tokens,\n",
    "            encoder_out=encoder_out,\n",
    "            src_lengths=src_lengths,\n",
    "            return_all_hiddens=return_all_hiddens,\n",
    "        )\n",
    "        return logits, extra"
   ]
  },
  {
   "cell_type": "markdown",
   "metadata": {
    "id": "C53amoENENPU"
   },
   "source": [
    "# Model Initialization"
   ]
  },
  {
   "cell_type": "code",
   "execution_count": 147,
   "metadata": {
    "id": "bckcnWfyENPU"
   },
   "outputs": [],
   "source": [
    "# # HINT: transformer architecture\n",
    "from fairseq.models.transformer import TransformerEncoder,TransformerDecoder\n",
    "\n",
    "def build_model(args, task):\n",
    "    \"\"\" build a model instance based on hyperparameters \"\"\"\n",
    "    src_dict, tgt_dict = task.source_dictionary, task.target_dictionary\n",
    "\n",
    "    # token embeddings\n",
    "    encoder_embed_tokens = nn.Embedding(len(src_dict), args.encoder_embed_dim, src_dict.pad())\n",
    "    decoder_embed_tokens = nn.Embedding(len(tgt_dict), args.decoder_embed_dim, tgt_dict.pad())\n",
    "\n",
    "    # encoder decoder\n",
    "    # HINT: TODO: switch to TransformerEncoder & TransformerDecoder\n",
    "    encoder = TransformerEncoder(args, src_dict, encoder_embed_tokens)\n",
    "    decoder = TransformerDecoder(args, tgt_dict, decoder_embed_tokens)\n",
    "\n",
    "    # sequence to sequence model\n",
    "    model = Seq2Seq(args, encoder, decoder)\n",
    "\n",
    "    # initialization for seq2seq model is important, requires extra handling\n",
    "    def init_params(module):\n",
    "        from fairseq.modules import MultiheadAttention\n",
    "        if isinstance(module, nn.Linear):\n",
    "            module.weight.data.normal_(mean=0.0, std=0.02)\n",
    "            if module.bias is not None:\n",
    "                module.bias.data.zero_()\n",
    "        if isinstance(module, nn.Embedding):\n",
    "            module.weight.data.normal_(mean=0.0, std=0.02)\n",
    "            if module.padding_idx is not None:\n",
    "                module.weight.data[module.padding_idx].zero_()\n",
    "        if isinstance(module, MultiheadAttention):\n",
    "            module.q_proj.weight.data.normal_(mean=0.0, std=0.02)\n",
    "            module.k_proj.weight.data.normal_(mean=0.0, std=0.02)\n",
    "            module.v_proj.weight.data.normal_(mean=0.0, std=0.02)\n",
    "        if isinstance(module, nn.RNNBase):\n",
    "            for name, param in module.named_parameters():\n",
    "                if \"weight\" in name or \"bias\" in name:\n",
    "                    param.data.uniform_(-0.1, 0.1)\n",
    "\n",
    "    # weight initialization\n",
    "    model.apply(init_params)\n",
    "    return model"
   ]
  },
  {
   "cell_type": "markdown",
   "metadata": {
    "id": "2yJLirzWENPU"
   },
   "source": [
    "## Architecture Related Configuration\n",
    "reference implementation\n",
    "\n",
    "|model|embedding dim|encoder ffn|encoder layers|decoder ffn|decoder layers|\n",
    "|-|-|-|-|-|-|\n",
    "|RNN|256|512|1|1024|1|\n",
    "|Transformer|256|1024|4|1024|4|\n",
    "\n",
    "For strong baseline, please refer to the hyperparameters for *transformer-base* in Table 3 in [Attention is all you need](#vaswani2017)"
   ]
  },
  {
   "cell_type": "code",
   "execution_count": 148,
   "metadata": {
    "id": "1SXjekzHENPV"
   },
   "outputs": [],
   "source": [
    "arch_args = Namespace(\n",
    "    encoder_embed_dim=256,\n",
    "    encoder_ffn_embed_dim=1024,\n",
    "    encoder_layers=4,\n",
    "    decoder_embed_dim=256,\n",
    "    decoder_ffn_embed_dim=1024,\n",
    "    decoder_layers=4,\n",
    "    share_decoder_input_output_embed=True,\n",
    "    dropout=0.3,\n",
    ")\n",
    "\n",
    "# # HINT: these patches on parameters for Transformer\n",
    "def add_transformer_args(args):\n",
    "    args.encoder_attention_heads=4\n",
    "    args.encoder_normalize_before=True\n",
    "\n",
    "    args.decoder_attention_heads=4\n",
    "    args.decoder_normalize_before=True\n",
    "\n",
    "    args.activation_fn=\"relu\"\n",
    "    args.max_source_positions=1024\n",
    "    args.max_target_positions=1024\n",
    "\n",
    "    # patches on default parameters for Transformer (those not set above)\n",
    "    from fairseq.models.transformer import base_architecture\n",
    "    base_architecture(arch_args)\n",
    "\n",
    "add_transformer_args(arch_args)"
   ]
  },
  {
   "cell_type": "code",
   "execution_count": 149,
   "metadata": {
    "id": "unG0th_1ENPV"
   },
   "outputs": [],
   "source": [
    "if config.use_wandb:\n",
    "    wandb.config.update(vars(arch_args))"
   ]
  },
  {
   "cell_type": "code",
   "execution_count": 150,
   "metadata": {
    "id": "pfOKVInqENPV"
   },
   "outputs": [
    {
     "name": "stderr",
     "output_type": "stream",
     "text": [
      "2024-07-19 16:02:49 | INFO | hw5.seq2seq | Seq2Seq(\n",
      "  (encoder): TransformerEncoder(\n",
      "    (dropout_module): FairseqDropout()\n",
      "    (embed_tokens): Embedding(7992, 256, padding_idx=1)\n",
      "    (embed_positions): SinusoidalPositionalEmbedding()\n",
      "    (layers): ModuleList(\n",
      "      (0-3): 4 x TransformerEncoderLayerBase(\n",
      "        (self_attn): MultiheadAttention(\n",
      "          (dropout_module): FairseqDropout()\n",
      "          (k_proj): Linear(in_features=256, out_features=256, bias=True)\n",
      "          (v_proj): Linear(in_features=256, out_features=256, bias=True)\n",
      "          (q_proj): Linear(in_features=256, out_features=256, bias=True)\n",
      "          (out_proj): Linear(in_features=256, out_features=256, bias=True)\n",
      "        )\n",
      "        (self_attn_layer_norm): LayerNorm((256,), eps=1e-05, elementwise_affine=True)\n",
      "        (dropout_module): FairseqDropout()\n",
      "        (activation_dropout_module): FairseqDropout()\n",
      "        (fc1): Linear(in_features=256, out_features=1024, bias=True)\n",
      "        (fc2): Linear(in_features=1024, out_features=256, bias=True)\n",
      "        (final_layer_norm): LayerNorm((256,), eps=1e-05, elementwise_affine=True)\n",
      "      )\n",
      "    )\n",
      "    (layer_norm): LayerNorm((256,), eps=1e-05, elementwise_affine=True)\n",
      "  )\n",
      "  (decoder): TransformerDecoder(\n",
      "    (dropout_module): FairseqDropout()\n",
      "    (embed_tokens): Embedding(7992, 256, padding_idx=1)\n",
      "    (embed_positions): SinusoidalPositionalEmbedding()\n",
      "    (layers): ModuleList(\n",
      "      (0-3): 4 x TransformerDecoderLayerBase(\n",
      "        (dropout_module): FairseqDropout()\n",
      "        (self_attn): MultiheadAttention(\n",
      "          (dropout_module): FairseqDropout()\n",
      "          (k_proj): Linear(in_features=256, out_features=256, bias=True)\n",
      "          (v_proj): Linear(in_features=256, out_features=256, bias=True)\n",
      "          (q_proj): Linear(in_features=256, out_features=256, bias=True)\n",
      "          (out_proj): Linear(in_features=256, out_features=256, bias=True)\n",
      "        )\n",
      "        (activation_dropout_module): FairseqDropout()\n",
      "        (self_attn_layer_norm): LayerNorm((256,), eps=1e-05, elementwise_affine=True)\n",
      "        (encoder_attn): MultiheadAttention(\n",
      "          (dropout_module): FairseqDropout()\n",
      "          (k_proj): Linear(in_features=256, out_features=256, bias=True)\n",
      "          (v_proj): Linear(in_features=256, out_features=256, bias=True)\n",
      "          (q_proj): Linear(in_features=256, out_features=256, bias=True)\n",
      "          (out_proj): Linear(in_features=256, out_features=256, bias=True)\n",
      "        )\n",
      "        (encoder_attn_layer_norm): LayerNorm((256,), eps=1e-05, elementwise_affine=True)\n",
      "        (fc1): Linear(in_features=256, out_features=1024, bias=True)\n",
      "        (fc2): Linear(in_features=1024, out_features=256, bias=True)\n",
      "        (final_layer_norm): LayerNorm((256,), eps=1e-05, elementwise_affine=True)\n",
      "      )\n",
      "    )\n",
      "    (layer_norm): LayerNorm((256,), eps=1e-05, elementwise_affine=True)\n",
      "    (output_projection): Linear(in_features=256, out_features=7992, bias=False)\n",
      "  )\n",
      ")\n"
     ]
    }
   ],
   "source": [
    "model = build_model(arch_args, task)\n",
    "logger.info(model)"
   ]
  },
  {
   "cell_type": "markdown",
   "metadata": {
    "id": "61sc7KRtENPV"
   },
   "source": [
    "# Optimization"
   ]
  },
  {
   "cell_type": "markdown",
   "metadata": {
    "id": "qehX8WfdENPV"
   },
   "source": [
    "## Loss: Label Smoothing Regularization\n",
    "* let the model learn to generate less concentrated distribution, and prevent over-confidence\n",
    "* sometimes the ground truth may not be the only answer. thus, when calculating loss, we reserve some probability for incorrect labels\n",
    "* avoids overfitting\n",
    "\n",
    "code [source](https://fairseq.readthedocs.io/en/latest/_modules/fairseq/criterions/label_smoothed_cross_entropy.html)"
   ]
  },
  {
   "cell_type": "code",
   "execution_count": 151,
   "metadata": {
    "id": "MqX7mI_FENPV"
   },
   "outputs": [],
   "source": [
    "class LabelSmoothedCrossEntropyCriterion(nn.Module):\n",
    "    def __init__(self, smoothing, ignore_index=None, reduce=True):\n",
    "        super().__init__()\n",
    "        self.smoothing = smoothing\n",
    "        self.ignore_index = ignore_index\n",
    "        self.reduce = reduce\n",
    "\n",
    "    def forward(self, lprobs, target):\n",
    "        if target.dim() == lprobs.dim() - 1:\n",
    "            target = target.unsqueeze(-1)\n",
    "        # nll: Negative log likelihood，the cross-entropy when target is one-hot. following line is same as F.nll_loss\n",
    "        nll_loss = -lprobs.gather(dim=-1, index=target)\n",
    "        #  reserve some probability for other labels. thus when calculating cross-entropy,\n",
    "        # equivalent to summing the log probs of all labels\n",
    "        smooth_loss = -lprobs.sum(dim=-1, keepdim=True)\n",
    "        if self.ignore_index is not None:\n",
    "            pad_mask = target.eq(self.ignore_index)\n",
    "            nll_loss.masked_fill_(pad_mask, 0.0)\n",
    "            smooth_loss.masked_fill_(pad_mask, 0.0)\n",
    "        else:\n",
    "            nll_loss = nll_loss.squeeze(-1)\n",
    "            smooth_loss = smooth_loss.squeeze(-1)\n",
    "        if self.reduce:\n",
    "            nll_loss = nll_loss.sum()\n",
    "            smooth_loss = smooth_loss.sum()\n",
    "        # when calculating cross-entropy, add the loss of other labels\n",
    "        eps_i = self.smoothing / lprobs.size(-1)\n",
    "        loss = (1.0 - self.smoothing) * nll_loss + eps_i * smooth_loss\n",
    "        return loss\n",
    "\n",
    "# generally, 0.1 is good enough\n",
    "criterion = LabelSmoothedCrossEntropyCriterion(\n",
    "    smoothing=0.1,\n",
    "    ignore_index=task.target_dictionary.pad(),\n",
    ")"
   ]
  },
  {
   "cell_type": "markdown",
   "metadata": {
    "id": "Ay7tM5kHENPV"
   },
   "source": [
    "## Optimizer: Adam + lr scheduling\n",
    "Inverse square root scheduling is important to the stability when training Transformer. It's later used on RNN as well.\n",
    "Update the learning rate according to the following equation. Linearly increase the first stage, then decay proportionally to the inverse square root of timestep.\n",
    "$$lrate = d_{\\text{model}}^{-0.5}\\cdot\\min({step\\_num}^{-0.5},{step\\_num}\\cdot{warmup\\_steps}^{-1.5})$$\n",
    "code [source](https://nlp.seas.harvard.edu/2018/04/03/attention.html)"
   ]
  },
  {
   "cell_type": "code",
   "execution_count": 152,
   "metadata": {
    "id": "DbKUiBKmENPV"
   },
   "outputs": [],
   "source": [
    "class NoamOpt:\n",
    "    \"Optim wrapper that implements rate.\"\n",
    "    def __init__(self, model_size, factor, warmup, optimizer):\n",
    "        self.optimizer = optimizer\n",
    "        self._step = 0\n",
    "        self.warmup = warmup\n",
    "        self.factor = factor\n",
    "        self.model_size = model_size\n",
    "        self._rate = 0\n",
    "\n",
    "    @property\n",
    "    def param_groups(self):\n",
    "        return self.optimizer.param_groups\n",
    "\n",
    "    def multiply_grads(self, c):\n",
    "        \"\"\"Multiplies grads by a constant *c*.\"\"\"\n",
    "        for group in self.param_groups:\n",
    "            for p in group['params']:\n",
    "                if p.grad is not None:\n",
    "                    p.grad.data.mul_(c)\n",
    "\n",
    "    def step(self):\n",
    "        \"Update parameters and rate\"\n",
    "        self._step += 1\n",
    "        rate = self.rate()\n",
    "        for p in self.param_groups:\n",
    "            p['lr'] = rate\n",
    "        self._rate = rate\n",
    "        self.optimizer.step()\n",
    "\n",
    "    def rate(self, step = None):\n",
    "        \"Implement `lrate` above\"\n",
    "        if step is None:\n",
    "            step = self._step\n",
    "        return 0 if not step else self.factor * \\\n",
    "            (self.model_size ** (-0.5) *\n",
    "            min(step ** (-0.5), step * self.warmup ** (-1.5)))"
   ]
  },
  {
   "cell_type": "markdown",
   "metadata": {
    "id": "dmH3tVAeENPW"
   },
   "source": [
    "## Scheduling Visualized"
   ]
  },
  {
   "cell_type": "code",
   "execution_count": 153,
   "metadata": {
    "id": "dO_DTJ8kENPW"
   },
   "outputs": [
    {
     "data": {
      "image/png": "[encoded data removed]",
      "text/plain": [
       "<Figure size 640x480 with 1 Axes>"
      ]
     },
     "metadata": {},
     "output_type": "display_data"
    }
   ],
   "source": [
    "optimizer = NoamOpt(\n",
    "    model_size=arch_args.encoder_embed_dim,\n",
    "    factor=config.lr_factor,\n",
    "    warmup=config.lr_warmup,\n",
    "    optimizer=torch.optim.AdamW(model.parameters(), lr=0, betas=(0.9, 0.98), eps=1e-9, weight_decay=0.0001))\n",
    "plt.plot(np.arange(1, 100000), [optimizer.rate(i) for i in range(1, 100000)])\n",
    "plt.legend([f\"{optimizer.model_size}:{optimizer.warmup}\"])\n",
    "None"
   ]
  },
  {
   "cell_type": "markdown",
   "metadata": {
    "id": "k14lbgXsENPW"
   },
   "source": [
    "# Training Procedure"
   ]
  },
  {
   "cell_type": "markdown",
   "metadata": {
    "id": "uz6KkqrcENPW"
   },
   "source": [
    "## Training"
   ]
  },
  {
   "cell_type": "code",
   "execution_count": 154,
   "metadata": {
    "id": "QWjcc35-ENPW"
   },
   "outputs": [],
   "source": [
    "from fairseq.data import iterators\n",
    "from torch.cuda.amp import GradScaler, autocast\n",
    "\n",
    "def train_one_epoch(epoch_itr, model, task, criterion, optimizer, accum_steps=1):\n",
    "    itr = epoch_itr.next_epoch_itr(shuffle=True)\n",
    "    itr = iterators.GroupedIterator(itr, accum_steps) # gradient accumulation: update every accum_steps samples\n",
    "\n",
    "    stats = {\"loss\": []}\n",
    "    scaler = GradScaler() # automatic mixed precision (amp)\n",
    "\n",
    "    model.train()\n",
    "    progress = tqdm.tqdm(itr, desc=f\"train epoch {epoch_itr.epoch}\", leave=False)\n",
    "    for samples in progress:\n",
    "        model.zero_grad()\n",
    "        accum_loss = 0\n",
    "        sample_size = 0\n",
    "        # gradient accumulation: update every accum_steps samples\n",
    "        for i, sample in enumerate(samples):\n",
    "            if i == 1:\n",
    "                # emptying the CUDA cache after the first step can reduce the chance of OOM\n",
    "                torch.cuda.empty_cache()\n",
    "\n",
    "            sample = utils.move_to_cuda(sample, device=device)\n",
    "            target = sample[\"target\"]\n",
    "            sample_size_i = sample[\"ntokens\"]\n",
    "            sample_size += sample_size_i\n",
    "\n",
    "            # mixed precision training\n",
    "            with autocast():\n",
    "                net_output = model.forward(**sample[\"net_input\"])\n",
    "                lprobs = F.log_softmax(net_output[0], -1)\n",
    "                loss = criterion(lprobs.view(-1, lprobs.size(-1)), target.view(-1))\n",
    "\n",
    "                # logging\n",
    "                accum_loss += loss.item()\n",
    "                # back-prop\n",
    "                scaler.scale(loss).backward()\n",
    "\n",
    "        scaler.unscale_(optimizer)\n",
    "        optimizer.multiply_grads(1 / (sample_size or 1.0)) # (sample_size or 1.0) handles the case of a zero gradient\n",
    "        gnorm = nn.utils.clip_grad_norm_(model.parameters(), config.clip_norm) # grad norm clipping prevents gradient exploding\n",
    "\n",
    "        scaler.step(optimizer)\n",
    "        scaler.update()\n",
    "\n",
    "        # logging\n",
    "        loss_print = accum_loss/sample_size\n",
    "        stats[\"loss\"].append(loss_print)\n",
    "        progress.set_postfix(loss=loss_print)\n",
    "        if config.use_wandb:\n",
    "            wandb.log({\n",
    "                \"train/loss\": loss_print,\n",
    "                \"train/grad_norm\": gnorm.item(),\n",
    "                \"train/lr\": optimizer.rate(),\n",
    "                \"train/sample_size\": sample_size,\n",
    "            })\n",
    "\n",
    "    loss_print = np.mean(stats[\"loss\"])\n",
    "    logger.info(f\"training loss: {loss_print:.4f}\")\n",
    "    return stats"
   ]
  },
  {
   "cell_type": "markdown",
   "metadata": {
    "id": "GG-7hUThENPW"
   },
   "source": [
    "## Validation & Inference\n",
    "To prevent overfitting, validation is required every epoch to validate the performance on unseen data.\n",
    "- the procedure is essensially same as training, with the addition of inference step\n",
    "- after validation we can save the model weights\n",
    "\n",
    "Validation loss alone cannot describe the actual performance of the model\n",
    "- Directly produce translation hypotheses based on current model, then calculate BLEU with the reference translation\n",
    "- We can also manually examine the hypotheses' quality\n",
    "- We use fairseq's sequence generator for beam search to generate translation hypotheses"
   ]
  },
  {
   "cell_type": "code",
   "execution_count": 155,
   "metadata": {
    "id": "w0RkrFK4ENPX"
   },
   "outputs": [],
   "source": [
    "# fairseq's beam search generator\n",
    "# given model and input seqeunce, produce translation hypotheses by beam search\n",
    "sequence_generator = task.build_generator([model], config)\n",
    "\n",
    "def decode(toks, dictionary):\n",
    "    # convert from Tensor to human readable sentence\n",
    "    s = dictionary.string(\n",
    "        toks.int().cpu(),\n",
    "        config.post_process,\n",
    "    )\n",
    "    return s if s else \"<unk>\"\n",
    "\n",
    "def inference_step(sample, model):\n",
    "    gen_out = sequence_generator.generate([model], sample)\n",
    "    srcs = []\n",
    "    hyps = []\n",
    "    refs = []\n",
    "    for i in range(len(gen_out)):\n",
    "        # for each sample, collect the input, hypothesis and reference, later be used to calculate BLEU\n",
    "        srcs.append(decode(\n",
    "            utils.strip_pad(sample[\"net_input\"][\"src_tokens\"][i], task.source_dictionary.pad()),\n",
    "            task.source_dictionary,\n",
    "        ))\n",
    "        hyps.append(decode(\n",
    "            gen_out[i][0][\"tokens\"], # 0 indicates using the top hypothesis in beam\n",
    "            task.target_dictionary,\n",
    "        ))\n",
    "        refs.append(decode(\n",
    "            utils.strip_pad(sample[\"target\"][i], task.target_dictionary.pad()),\n",
    "            task.target_dictionary,\n",
    "        ))\n",
    "    return srcs, hyps, refs"
   ]
  },
  {
   "cell_type": "code",
   "execution_count": 156,
   "metadata": {
    "id": "kIrl76z6ENPX"
   },
   "outputs": [],
   "source": [
    "import shutil\n",
    "import sacrebleu\n",
    "\n",
    "def validate(model, task, criterion, log_to_wandb=True):\n",
    "    logger.info('begin validation')\n",
    "    itr = load_data_iterator(task, \"valid\", 1, config.max_tokens, config.num_workers).next_epoch_itr(shuffle=False)\n",
    "\n",
    "    stats = {\"loss\":[], \"bleu\": 0, \"srcs\":[], \"hyps\":[], \"refs\":[]}\n",
    "    srcs = []\n",
    "    hyps = []\n",
    "    refs = []\n",
    "\n",
    "    model.eval()\n",
    "    progress = tqdm.tqdm(itr, desc=f\"validation\", leave=False)\n",
    "    with torch.no_grad():\n",
    "        for i, sample in enumerate(progress):\n",
    "            # validation loss\n",
    "            sample = utils.move_to_cuda(sample, device=device)\n",
    "            net_output = model.forward(**sample[\"net_input\"])\n",
    "\n",
    "            lprobs = F.log_softmax(net_output[0], -1)\n",
    "            target = sample[\"target\"]\n",
    "            sample_size = sample[\"ntokens\"]\n",
    "            loss = criterion(lprobs.view(-1, lprobs.size(-1)), target.view(-1)) / sample_size\n",
    "            progress.set_postfix(valid_loss=loss.item())\n",
    "            stats[\"loss\"].append(loss)\n",
    "\n",
    "            # do inference\n",
    "            s, h, r = inference_step(sample, model)\n",
    "            srcs.extend(s)\n",
    "            hyps.extend(h)\n",
    "            refs.extend(r)\n",
    "\n",
    "    tok = 'zh' if task.cfg.target_lang == 'zh' else '13a'\n",
    "    stats[\"loss\"] = torch.stack(stats[\"loss\"]).mean().item()\n",
    "    stats[\"bleu\"] = sacrebleu.corpus_bleu(hyps, [refs], tokenize=tok) # 計算BLEU score\n",
    "    stats[\"srcs\"] = srcs\n",
    "    stats[\"hyps\"] = hyps\n",
    "    stats[\"refs\"] = refs\n",
    "\n",
    "    if config.use_wandb and log_to_wandb:\n",
    "        wandb.log({\n",
    "            \"valid/loss\": stats[\"loss\"],\n",
    "            \"valid/bleu\": stats[\"bleu\"].score,\n",
    "        }, commit=False)\n",
    "\n",
    "    showid = np.random.randint(len(hyps))\n",
    "    logger.info(\"example source: \" + srcs[showid])\n",
    "    logger.info(\"example hypothesis: \" + hyps[showid])\n",
    "    logger.info(\"example reference: \" + refs[showid])\n",
    "\n",
    "    # show bleu results\n",
    "    logger.info(f\"validation loss:\\t{stats['loss']:.4f}\")\n",
    "    logger.info(stats[\"bleu\"].format())\n",
    "    return stats"
   ]
  },
  {
   "cell_type": "markdown",
   "metadata": {
    "id": "ljOu1iMQENPX"
   },
   "source": [
    "# Save and Load Model Weights"
   ]
  },
  {
   "cell_type": "code",
   "execution_count": 157,
   "metadata": {
    "id": "AKz3ye21ENPX"
   },
   "outputs": [],
   "source": [
    "def validate_and_save(model, task, criterion, optimizer, epoch, save=True):\n",
    "    stats = validate(model, task, criterion)\n",
    "    bleu = stats['bleu']\n",
    "    loss = stats['loss']\n",
    "    if save:\n",
    "        # save epoch checkpoints\n",
    "        savedir = Path(config.savedir).absolute()\n",
    "        savedir.mkdir(parents=True, exist_ok=True)\n",
    "\n",
    "        check = {\n",
    "            \"model\": model.state_dict(),\n",
    "            \"stats\": {\"bleu\": bleu.score, \"loss\": loss},\n",
    "            \"optim\": {\"step\": optimizer._step}\n",
    "        }\n",
    "        torch.save(check, savedir/f\"checkpoint{epoch}.pt\")\n",
    "        shutil.copy(savedir/f\"checkpoint{epoch}.pt\", savedir/f\"checkpoint_last.pt\")\n",
    "        logger.info(f\"saved epoch checkpoint: {savedir}/checkpoint{epoch}.pt\")\n",
    "\n",
    "        # save epoch samples\n",
    "        with open(savedir/f\"samples{epoch}.{config.source_lang}-{config.target_lang}.txt\", \"w\") as f:\n",
    "            for s, h in zip(stats[\"srcs\"], stats[\"hyps\"]):\n",
    "                f.write(f\"{s}\\t{h}\\n\")\n",
    "\n",
    "        # get best valid bleu\n",
    "        if getattr(validate_and_save, \"best_bleu\", 0) < bleu.score:\n",
    "            validate_and_save.best_bleu = bleu.score\n",
    "            torch.save(check, savedir/f\"checkpoint_best.pt\")\n",
    "\n",
    "        del_file = savedir / f\"checkpoint{epoch - config.keep_last_epochs}.pt\"\n",
    "        if del_file.exists():\n",
    "            del_file.unlink()\n",
    "\n",
    "    return stats\n",
    "\n",
    "def try_load_checkpoint(model, optimizer=None, name=None):\n",
    "    name = name if name else \"checkpoint_last.pt\"\n",
    "    checkpath = Path(config.savedir)/name\n",
    "    if checkpath.exists():\n",
    "        check = torch.load(checkpath)\n",
    "        model.load_state_dict(check[\"model\"])\n",
    "        stats = check[\"stats\"]\n",
    "        step = \"unknown\"\n",
    "        if optimizer != None:\n",
    "            optimizer._step = step = check[\"optim\"][\"step\"]\n",
    "        logger.info(f\"loaded checkpoint {checkpath}: step={step} loss={stats['loss']} bleu={stats['bleu']}\")\n",
    "    else:\n",
    "        logger.info(f\"no checkpoints found at {checkpath}!\")"
   ]
  },
  {
   "cell_type": "markdown",
   "metadata": {
    "id": "v7YlqHJsENPX"
   },
   "source": [
    "# Main\n",
    "## Training loop"
   ]
  },
  {
   "cell_type": "code",
   "execution_count": 158,
   "metadata": {
    "id": "Q_2K5TU7ENPX"
   },
   "outputs": [],
   "source": [
    "model = model.to(device=device)\n",
    "criterion = criterion.to(device=device)"
   ]
  },
  {
   "cell_type": "code",
   "execution_count": 159,
   "metadata": {
    "id": "SCSg7hLwENPX"
   },
   "outputs": [
    {
     "name": "stdout",
     "output_type": "stream",
     "text": [
      "Fri Jul 19 16:02:49 2024       \n",
      "+-----------------------------------------------------------------------------------------+\n",
      "| NVIDIA-SMI 550.76.01              Driver Version: 552.22         CUDA Version: 12.4     |\n",
      "|-----------------------------------------+------------------------+----------------------+\n",
      "| GPU  Name                 Persistence-M | Bus-Id          Disp.A | Volatile Uncorr. ECC |\n",
      "| Fan  Temp   Perf          Pwr:Usage/Cap |           Memory-Usage | GPU-Util  Compute M. |\n",
      "|                                         |                        |               MIG M. |\n",
      "|=========================================+========================+======================|\n",
      "|   0  NVIDIA GeForce RTX 3070        On  |   00000000:0B:00.0 Off |                  N/A |\n",
      "|  0%   52C    P8             19W /  220W |    4592MiB /   8192MiB |     15%      Default |\n",
      "|                                         |                        |                  N/A |\n",
      "+-----------------------------------------+------------------------+----------------------+\n",
      "|   1  NVIDIA GeForce GTX 1060 6GB    On  |   00000000:0C:00.0  On |                  N/A |\n",
      "| 67%   63C    P2            111W /  140W |    3345MiB /   6144MiB |     91%      Default |\n",
      "|                                         |                        |                  N/A |\n",
      "+-----------------------------------------+------------------------+----------------------+\n",
      "                                                                                         \n",
      "+-----------------------------------------------------------------------------------------+\n",
      "| Processes:                                                                              |\n",
      "|  GPU   GI   CI        PID   Type   Process name                              GPU Memory |\n",
      "|        ID   ID                                                               Usage      |\n",
      "|=========================================================================================|\n",
      "|  No running processes found                                                             |\n",
      "+-----------------------------------------------------------------------------------------+\n"
     ]
    }
   ],
   "source": [
    "!nvidia-smi"
   ]
  },
  {
   "cell_type": "code",
   "execution_count": 160,
   "metadata": {
    "id": "hFfMuCyPENPY"
   },
   "outputs": [
    {
     "name": "stderr",
     "output_type": "stream",
     "text": [
      "2024-07-19 16:02:49 | INFO | hw5.seq2seq | task: TranslationTask\n",
      "2024-07-19 16:02:49 | INFO | hw5.seq2seq | encoder: TransformerEncoder\n",
      "2024-07-19 16:02:49 | INFO | hw5.seq2seq | decoder: TransformerDecoder\n",
      "2024-07-19 16:02:49 | INFO | hw5.seq2seq | criterion: LabelSmoothedCrossEntropyCriterion\n",
      "2024-07-19 16:02:49 | INFO | hw5.seq2seq | optimizer: NoamOpt\n",
      "2024-07-19 16:02:49 | INFO | hw5.seq2seq | num. model params: 14,620,672 (num. trained: 14,620,672)\n",
      "2024-07-19 16:02:49 | INFO | hw5.seq2seq | max tokens per batch = 8192, accumulate steps = 2\n"
     ]
    }
   ],
   "source": [
    "logger.info(\"task: {}\".format(task.__class__.__name__))\n",
    "logger.info(\"encoder: {}\".format(model.encoder.__class__.__name__))\n",
    "logger.info(\"decoder: {}\".format(model.decoder.__class__.__name__))\n",
    "logger.info(\"criterion: {}\".format(criterion.__class__.__name__))\n",
    "logger.info(\"optimizer: {}\".format(optimizer.__class__.__name__))\n",
    "logger.info(\n",
    "    \"num. model params: {:,} (num. trained: {:,})\".format(\n",
    "        sum(p.numel() for p in model.parameters()),\n",
    "        sum(p.numel() for p in model.parameters() if p.requires_grad),\n",
    "    )\n",
    ")\n",
    "logger.info(f\"max tokens per batch = {config.max_tokens}, accumulate steps = {config.accum_steps}\")"
   ]
  },
  {
   "cell_type": "code",
   "execution_count": 161,
   "metadata": {
    "id": "xIzZHS46ENPY",
    "scrolled": true
   },
   "outputs": [
    {
     "name": "stderr",
     "output_type": "stream",
     "text": [
      "2024-07-19 16:02:49 | WARNING | fairseq.tasks.fairseq_task | 1 samples have invalid sizes and will be skipped, max_positions=(1024, 1024), first few sample ids=[326662]\n",
      "2024-07-19 16:02:50 | INFO | fairseq.data.iterators | grouped total_num_itrs = 797\n"
     ]
    },
    {
     "data": {
      "application/vnd.jupyter.widget-view+json": {
       "model_id": "",
       "version_major": 2,
       "version_minor": 0
      },
      "text/plain": [
       "train epoch 1:   0%|          | 0/797 [00:00<?, ?it/s]"
      ]
     },
     "metadata": {},
     "output_type": "display_data"
    },
    {
     "name": "stderr",
     "output_type": "stream",
     "text": [
      "2024-07-19 16:05:00 | INFO | hw5.seq2seq | training loss: 7.0223\n",
      "2024-07-19 16:05:00 | INFO | hw5.seq2seq | begin validation\n"
     ]
    },
    {
     "data": {
      "application/vnd.jupyter.widget-view+json": {
       "model_id": "",
       "version_major": 2,
       "version_minor": 0
      },
      "text/plain": [
       "validation:   0%|          | 0/24 [00:00<?, ?it/s]"
      ]
     },
     "metadata": {},
     "output_type": "display_data"
    },
    {
     "name": "stderr",
     "output_type": "stream",
     "text": [
      "2024-07-19 16:05:26 | INFO | hw5.seq2seq | example source: do you also feel that now , fellow citizen ?\n",
      "2024-07-19 16:05:26 | INFO | hw5.seq2seq | example hypothesis: 所以 , 不不想 , 這樣 ?\n",
      "2024-07-19 16:05:26 | INFO | hw5.seq2seq | example reference: 你們現在也感受到那種感覺嗎 , 同胞們 ?\n",
      "2024-07-19 16:05:26 | INFO | hw5.seq2seq | validation loss:\t5.9422\n",
      "2024-07-19 16:05:26 | INFO | hw5.seq2seq | BLEU = 1.04 16.3/2.5/0.5/0.1 (BP = 0.878 ratio = 0.885 hyp_len = 98524 ref_len = 111296)\n",
      "2024-07-19 16:05:54 | INFO | hw5.seq2seq | saved epoch checkpoint: /mnt/e/Workspace/NSYSU/Lab/checkpoints/rnn/checkpoint1.pt\n",
      "2024-07-19 16:05:54 | INFO | hw5.seq2seq | end of epoch 1\n",
      "2024-07-19 16:05:54 | INFO | fairseq.data.iterators | grouped total_num_itrs = 797\n"
     ]
    },
    {
     "data": {
      "application/vnd.jupyter.widget-view+json": {
       "model_id": "",
       "version_major": 2,
       "version_minor": 0
      },
      "text/plain": [
       "train epoch 2:   0%|          | 0/797 [00:00<?, ?it/s]"
      ]
     },
     "metadata": {},
     "output_type": "display_data"
    },
    {
     "name": "stderr",
     "output_type": "stream",
     "text": [
      "Exception ignored in: <function _MultiProcessingDataLoaderIter.__del__ at 0x7f767cd8dc10>\n",
      "Traceback (most recent call last):\n",
      "  File \"/root/anaconda3/envs/ML2021-env/lib/python3.9/site-packages/torch/utils/data/dataloader.py\", line 1479, in __del__\n",
      "    self._shutdown_workers()\n",
      "  File \"/root/anaconda3/envs/ML2021-env/lib/python3.9/site-packages/torch/utils/data/dataloader.py\", line 1462, in _shutdown_workers\n",
      "    if w.is_alive():\n",
      "  File \"/root/anaconda3/envs/ML2021-env/lib/python3.9/multiprocessing/process.py\", line 160, in is_alive\n",
      "    assert self._parent_pid == os.getpid(), 'can only test a child process'\n",
      "AssertionError: can only test a child process\n",
      "Exception ignored in: <function _MultiProcessingDataLoaderIter.__del__ at 0x7f767cd8dc10>\n",
      "Traceback (most recent call last):\n",
      "  File \"/root/anaconda3/envs/ML2021-env/lib/python3.9/site-packages/torch/utils/data/dataloader.py\", line 1479, in __del__\n",
      "    self._shutdown_workers()\n",
      "  File \"/root/anaconda3/envs/ML2021-env/lib/python3.9/site-packages/torch/utils/data/dataloader.py\", line 1462, in _shutdown_workers\n",
      "    if w.is_alive():\n",
      "  File \"/root/anaconda3/envs/ML2021-env/lib/python3.9/multiprocessing/process.py\", line 160, in is_alive\n",
      "    assert self._parent_pid == os.getpid(), 'can only test a child process'\n",
      "AssertionError: can only test a child process\n",
      "Exception ignored in: <function _MultiProcessingDataLoaderIter.__del__ at 0x7f767cd8dc10>\n",
      "Traceback (most recent call last):\n",
      "  File \"/root/anaconda3/envs/ML2021-env/lib/python3.9/site-packages/torch/utils/data/dataloader.py\", line 1479, in __del__\n",
      "    self._shutdown_workers()\n",
      "  File \"/root/anaconda3/envs/ML2021-env/lib/python3.9/site-packages/torch/utils/data/dataloader.py\", line 1462, in _shutdown_workers\n",
      "    if w.is_alive():\n",
      "  File \"/root/anaconda3/envs/ML2021-env/lib/python3.9/multiprocessing/process.py\", line 160, in is_alive\n",
      "    assert self._parent_pid == os.getpid(), 'can only test a child process'\n",
      "AssertionError: can only test a child process\n",
      "Exception ignored in: <function _MultiProcessingDataLoaderIter.__del__ at 0x7f767cd8dc10>\n",
      "Traceback (most recent call last):\n",
      "  File \"/root/anaconda3/envs/ML2021-env/lib/python3.9/site-packages/torch/utils/data/dataloader.py\", line 1479, in __del__\n",
      "    self._shutdown_workers()\n",
      "  File \"/root/anaconda3/envs/ML2021-env/lib/python3.9/site-packages/torch/utils/data/dataloader.py\", line 1462, in _shutdown_workers\n",
      "    if w.is_alive():\n",
      "  File \"/root/anaconda3/envs/ML2021-env/lib/python3.9/multiprocessing/process.py\", line 160, in is_alive\n",
      "    assert self._parent_pid == os.getpid(), 'can only test a child process'\n",
      "AssertionError: can only test a child process\n",
      "Exception ignored in: <function _MultiProcessingDataLoaderIter.__del__ at 0x7f767cd8dc10>\n",
      "Traceback (most recent call last):\n",
      "  File \"/root/anaconda3/envs/ML2021-env/lib/python3.9/site-packages/torch/utils/data/dataloader.py\", line 1479, in __del__\n",
      "    self._shutdown_workers()\n",
      "  File \"/root/anaconda3/envs/ML2021-env/lib/python3.9/site-packages/torch/utils/data/dataloader.py\", line 1462, in _shutdown_workers\n",
      "    if w.is_alive():\n",
      "  File \"/root/anaconda3/envs/ML2021-env/lib/python3.9/multiprocessing/process.py\", line 160, in is_alive\n",
      "    assert self._parent_pid == os.getpid(), 'can only test a child process'\n",
      "AssertionError: can only test a child process\n",
      "Exception ignored in: <function _MultiProcessingDataLoaderIter.__del__ at 0x7f767cd8dc10>\n",
      "Traceback (most recent call last):\n",
      "  File \"/root/anaconda3/envs/ML2021-env/lib/python3.9/site-packages/torch/utils/data/dataloader.py\", line 1479, in __del__\n",
      "    self._shutdown_workers()\n",
      "  File \"/root/anaconda3/envs/ML2021-env/lib/python3.9/site-packages/torch/utils/data/dataloader.py\", line 1462, in _shutdown_workers\n",
      "    if w.is_alive():\n",
      "  File \"/root/anaconda3/envs/ML2021-env/lib/python3.9/multiprocessing/process.py\", line 160, in is_alive\n",
      "    assert self._parent_pid == os.getpid(), 'can only test a child process'\n",
      "AssertionError: can only test a child process\n",
      "2024-07-19 16:08:05 | INFO | hw5.seq2seq | training loss: 5.5053\n",
      "2024-07-19 16:08:05 | INFO | hw5.seq2seq | begin validation\n"
     ]
    },
    {
     "data": {
      "application/vnd.jupyter.widget-view+json": {
       "model_id": "",
       "version_major": 2,
       "version_minor": 0
      },
      "text/plain": [
       "validation:   0%|          | 0/24 [00:00<?, ?it/s]"
      ]
     },
     "metadata": {},
     "output_type": "display_data"
    },
    {
     "name": "stderr",
     "output_type": "stream",
     "text": [
      "2024-07-19 16:08:29 | INFO | hw5.seq2seq | example source: this is big . this was huge .\n",
      "2024-07-19 16:08:29 | INFO | hw5.seq2seq | example hypothesis: 這是很大的 。\n",
      "2024-07-19 16:08:29 | INFO | hw5.seq2seq | example reference: 這是件大事 , 非常大 。\n",
      "2024-07-19 16:08:29 | INFO | hw5.seq2seq | validation loss:\t4.9454\n",
      "2024-07-19 16:08:29 | INFO | hw5.seq2seq | BLEU = 8.10 37.9/14.5/5.9/2.5 (BP = 0.854 ratio = 0.864 hyp_len = 96110 ref_len = 111296)\n",
      "2024-07-19 16:08:30 | INFO | hw5.seq2seq | saved epoch checkpoint: /mnt/e/Workspace/NSYSU/Lab/checkpoints/rnn/checkpoint2.pt\n",
      "2024-07-19 16:08:30 | INFO | hw5.seq2seq | end of epoch 2\n",
      "2024-07-19 16:08:30 | INFO | fairseq.data.iterators | grouped total_num_itrs = 797\n"
     ]
    },
    {
     "data": {
      "application/vnd.jupyter.widget-view+json": {
       "model_id": "",
       "version_major": 2,
       "version_minor": 0
      },
      "text/plain": [
       "train epoch 3:   0%|          | 0/797 [00:00<?, ?it/s]"
      ]
     },
     "metadata": {},
     "output_type": "display_data"
    },
    {
     "name": "stderr",
     "output_type": "stream",
     "text": [
      "2024-07-19 16:10:42 | INFO | hw5.seq2seq | training loss: 4.8913\n",
      "2024-07-19 16:10:42 | INFO | hw5.seq2seq | begin validation\n"
     ]
    },
    {
     "data": {
      "application/vnd.jupyter.widget-view+json": {
       "model_id": "",
       "version_major": 2,
       "version_minor": 0
      },
      "text/plain": [
       "validation:   0%|          | 0/24 [00:00<?, ?it/s]"
      ]
     },
     "metadata": {},
     "output_type": "display_data"
    },
    {
     "name": "stderr",
     "output_type": "stream",
     "text": [
      "2024-07-19 16:11:05 | INFO | hw5.seq2seq | example source: now b , he's answered \" yes . \"\n",
      "2024-07-19 16:11:05 | INFO | hw5.seq2seq | example hypothesis: 嗯 , 他回答了 「 是的 」 。\n",
      "2024-07-19 16:11:05 | INFO | hw5.seq2seq | example reference: 換b君 , 他回答 「 是 」 ,\n",
      "2024-07-19 16:11:05 | INFO | hw5.seq2seq | validation loss:\t4.5226\n",
      "2024-07-19 16:11:05 | INFO | hw5.seq2seq | BLEU = 10.81 44.9/19.6/9.4/4.7 (BP = 0.769 ratio = 0.792 hyp_len = 88128 ref_len = 111296)\n",
      "2024-07-19 16:11:06 | INFO | hw5.seq2seq | saved epoch checkpoint: /mnt/e/Workspace/NSYSU/Lab/checkpoints/rnn/checkpoint3.pt\n",
      "2024-07-19 16:11:06 | INFO | hw5.seq2seq | end of epoch 3\n",
      "2024-07-19 16:11:06 | INFO | fairseq.data.iterators | grouped total_num_itrs = 797\n"
     ]
    },
    {
     "data": {
      "application/vnd.jupyter.widget-view+json": {
       "model_id": "",
       "version_major": 2,
       "version_minor": 0
      },
      "text/plain": [
       "train epoch 4:   0%|          | 0/797 [00:00<?, ?it/s]"
      ]
     },
     "metadata": {},
     "output_type": "display_data"
    },
    {
     "name": "stderr",
     "output_type": "stream",
     "text": [
      "2024-07-19 16:13:16 | INFO | hw5.seq2seq | training loss: 4.5924\n",
      "2024-07-19 16:13:16 | INFO | hw5.seq2seq | begin validation\n"
     ]
    },
    {
     "data": {
      "application/vnd.jupyter.widget-view+json": {
       "model_id": "",
       "version_major": 2,
       "version_minor": 0
      },
      "text/plain": [
       "validation:   0%|          | 0/24 [00:00<?, ?it/s]"
      ]
     },
     "metadata": {},
     "output_type": "display_data"
    },
    {
     "name": "stderr",
     "output_type": "stream",
     "text": [
      "2024-07-19 16:13:44 | INFO | hw5.seq2seq | example source: baakir and his partner nicole , with their baby girl strapped to her back , are there in the mix of it all , serving up a cup of coffee , teaching a child how to play mancala , or painting a sign for an upcoming community event .\n",
      "2024-07-19 16:13:44 | INFO | hw5.seq2seq | example hypothesis: 巴克和他的夥伴和他的夥伴 , 和他們的嬰兒們一起坐著她回來 , 在那裡 , 教孩子們 , 教孩子們 , 教孩子們如何玩笑 , 教孩子如何扮演社群 , 或在社群的社區裡扮演社區 , 甚至是如何扮演社區 。\n",
      "2024-07-19 16:13:44 | INFO | hw5.seq2seq | example reference: 巴基爾和他的另一半妮可背著他們的女兒跟大家混在一起提供咖啡、教小孩玩《播棋》或是為即將舉辦的團體活動描繪標誌\n",
      "2024-07-19 16:13:44 | INFO | hw5.seq2seq | validation loss:\t4.2877\n",
      "2024-07-19 16:13:44 | INFO | hw5.seq2seq | BLEU = 14.35 43.9/20.4/10.2/5.3 (BP = 0.968 ratio = 0.969 hyp_len = 107813 ref_len = 111296)\n",
      "2024-07-19 16:13:45 | INFO | hw5.seq2seq | saved epoch checkpoint: /mnt/e/Workspace/NSYSU/Lab/checkpoints/rnn/checkpoint4.pt\n",
      "2024-07-19 16:13:45 | INFO | hw5.seq2seq | end of epoch 4\n",
      "2024-07-19 16:13:45 | INFO | fairseq.data.iterators | grouped total_num_itrs = 797\n"
     ]
    },
    {
     "data": {
      "application/vnd.jupyter.widget-view+json": {
       "model_id": "",
       "version_major": 2,
       "version_minor": 0
      },
      "text/plain": [
       "train epoch 5:   0%|          | 0/797 [00:00<?, ?it/s]"
      ]
     },
     "metadata": {},
     "output_type": "display_data"
    },
    {
     "name": "stderr",
     "output_type": "stream",
     "text": [
      "2024-07-19 16:15:52 | INFO | hw5.seq2seq | training loss: 4.4201\n",
      "2024-07-19 16:15:52 | INFO | hw5.seq2seq | begin validation\n"
     ]
    },
    {
     "data": {
      "application/vnd.jupyter.widget-view+json": {
       "model_id": "",
       "version_major": 2,
       "version_minor": 0
      },
      "text/plain": [
       "validation:   0%|          | 0/24 [00:00<?, ?it/s]"
      ]
     },
     "metadata": {},
     "output_type": "display_data"
    },
    {
     "name": "stderr",
     "output_type": "stream",
     "text": [
      "2024-07-19 16:16:20 | INFO | hw5.seq2seq | example source: wow ! some of you watched it . that's great . that's great .\n",
      "2024-07-19 16:16:20 | INFO | hw5.seq2seq | example hypothesis: 哇 ! 有些人看著它 。 這很棒 。 這很棒 。\n",
      "2024-07-19 16:16:20 | INFO | hw5.seq2seq | example reference: 太好了\n",
      "2024-07-19 16:16:20 | INFO | hw5.seq2seq | validation loss:\t4.1467\n",
      "2024-07-19 16:16:20 | INFO | hw5.seq2seq | BLEU = 15.21 48.5/23.3/12.0/6.5 (BP = 0.882 ratio = 0.888 hyp_len = 98837 ref_len = 111296)\n",
      "2024-07-19 16:16:21 | INFO | hw5.seq2seq | saved epoch checkpoint: /mnt/e/Workspace/NSYSU/Lab/checkpoints/rnn/checkpoint5.pt\n",
      "2024-07-19 16:16:22 | INFO | hw5.seq2seq | end of epoch 5\n",
      "2024-07-19 16:16:22 | INFO | fairseq.data.iterators | grouped total_num_itrs = 797\n"
     ]
    },
    {
     "data": {
      "application/vnd.jupyter.widget-view+json": {
       "model_id": "",
       "version_major": 2,
       "version_minor": 0
      },
      "text/plain": [
       "train epoch 6:   0%|          | 0/797 [00:00<?, ?it/s]"
      ]
     },
     "metadata": {},
     "output_type": "display_data"
    },
    {
     "name": "stderr",
     "output_type": "stream",
     "text": [
      "2024-07-19 16:18:31 | INFO | hw5.seq2seq | training loss: 4.2673\n",
      "2024-07-19 16:18:31 | INFO | hw5.seq2seq | begin validation\n"
     ]
    },
    {
     "data": {
      "application/vnd.jupyter.widget-view+json": {
       "model_id": "",
       "version_major": 2,
       "version_minor": 0
      },
      "text/plain": [
       "validation:   0%|          | 0/24 [00:00<?, ?it/s]"
      ]
     },
     "metadata": {},
     "output_type": "display_data"
    },
    {
     "name": "stderr",
     "output_type": "stream",
     "text": [
      "2024-07-19 16:18:55 | INFO | hw5.seq2seq | example source: thank you .\n",
      "2024-07-19 16:18:55 | INFO | hw5.seq2seq | example hypothesis: 多謝 。\n",
      "2024-07-19 16:18:55 | INFO | hw5.seq2seq | example reference: 謝謝\n",
      "2024-07-19 16:18:55 | INFO | hw5.seq2seq | validation loss:\t3.9816\n",
      "2024-07-19 16:18:55 | INFO | hw5.seq2seq | BLEU = 16.92 52.0/26.0/13.8/7.7 (BP = 0.868 ratio = 0.876 hyp_len = 97481 ref_len = 111296)\n",
      "2024-07-19 16:18:56 | INFO | hw5.seq2seq | saved epoch checkpoint: /mnt/e/Workspace/NSYSU/Lab/checkpoints/rnn/checkpoint6.pt\n",
      "2024-07-19 16:18:56 | INFO | hw5.seq2seq | end of epoch 6\n",
      "2024-07-19 16:18:56 | INFO | fairseq.data.iterators | grouped total_num_itrs = 797\n"
     ]
    },
    {
     "data": {
      "application/vnd.jupyter.widget-view+json": {
       "model_id": "",
       "version_major": 2,
       "version_minor": 0
      },
      "text/plain": [
       "train epoch 7:   0%|          | 0/797 [00:00<?, ?it/s]"
      ]
     },
     "metadata": {},
     "output_type": "display_data"
    },
    {
     "name": "stderr",
     "output_type": "stream",
     "text": [
      "2024-07-19 16:21:05 | INFO | hw5.seq2seq | training loss: 4.1272\n",
      "2024-07-19 16:21:05 | INFO | hw5.seq2seq | begin validation\n"
     ]
    },
    {
     "data": {
      "application/vnd.jupyter.widget-view+json": {
       "model_id": "",
       "version_major": 2,
       "version_minor": 0
      },
      "text/plain": [
       "validation:   0%|          | 0/24 [00:00<?, ?it/s]"
      ]
     },
     "metadata": {},
     "output_type": "display_data"
    },
    {
     "name": "stderr",
     "output_type": "stream",
     "text": [
      "2024-07-19 16:21:29 | INFO | hw5.seq2seq | example source: thank you .\n",
      "2024-07-19 16:21:29 | INFO | hw5.seq2seq | example hypothesis: 謝謝\n",
      "2024-07-19 16:21:29 | INFO | hw5.seq2seq | example reference: 謝謝 。\n",
      "2024-07-19 16:21:29 | INFO | hw5.seq2seq | validation loss:\t3.8901\n",
      "2024-07-19 16:21:29 | INFO | hw5.seq2seq | BLEU = 18.20 53.2/27.3/14.8/8.3 (BP = 0.885 ratio = 0.891 hyp_len = 99157 ref_len = 111296)\n",
      "2024-07-19 16:21:30 | INFO | hw5.seq2seq | saved epoch checkpoint: /mnt/e/Workspace/NSYSU/Lab/checkpoints/rnn/checkpoint7.pt\n",
      "2024-07-19 16:21:31 | INFO | hw5.seq2seq | end of epoch 7\n",
      "2024-07-19 16:21:31 | INFO | fairseq.data.iterators | grouped total_num_itrs = 797\n"
     ]
    },
    {
     "data": {
      "application/vnd.jupyter.widget-view+json": {
       "model_id": "",
       "version_major": 2,
       "version_minor": 0
      },
      "text/plain": [
       "train epoch 8:   0%|          | 0/797 [00:00<?, ?it/s]"
      ]
     },
     "metadata": {},
     "output_type": "display_data"
    },
    {
     "name": "stderr",
     "output_type": "stream",
     "text": [
      "2024-07-19 16:23:38 | INFO | hw5.seq2seq | training loss: 4.0262\n",
      "2024-07-19 16:23:38 | INFO | hw5.seq2seq | begin validation\n"
     ]
    },
    {
     "data": {
      "application/vnd.jupyter.widget-view+json": {
       "model_id": "",
       "version_major": 2,
       "version_minor": 0
      },
      "text/plain": [
       "validation:   0%|          | 0/24 [00:00<?, ?it/s]"
      ]
     },
     "metadata": {},
     "output_type": "display_data"
    },
    {
     "name": "stderr",
     "output_type": "stream",
     "text": [
      "2024-07-19 16:24:01 | INFO | hw5.seq2seq | example source: and that's the key , perhaps , to reframing our thinking about medicine .\n",
      "2024-07-19 16:24:01 | INFO | hw5.seq2seq | example hypothesis: 這是關鍵 , 也許 , 要重新思考醫學 。\n",
      "2024-07-19 16:24:01 | INFO | hw5.seq2seq | example reference: 可能這就是答案 , 改變我們對醫學的想法 。\n",
      "2024-07-19 16:24:01 | INFO | hw5.seq2seq | validation loss:\t3.8255\n",
      "2024-07-19 16:24:01 | INFO | hw5.seq2seq | BLEU = 18.87 55.2/28.8/15.8/9.1 (BP = 0.862 ratio = 0.871 hyp_len = 96891 ref_len = 111296)\n",
      "2024-07-19 16:24:02 | INFO | hw5.seq2seq | saved epoch checkpoint: /mnt/e/Workspace/NSYSU/Lab/checkpoints/rnn/checkpoint8.pt\n",
      "2024-07-19 16:24:02 | INFO | hw5.seq2seq | end of epoch 8\n",
      "2024-07-19 16:24:02 | INFO | fairseq.data.iterators | grouped total_num_itrs = 797\n"
     ]
    },
    {
     "data": {
      "application/vnd.jupyter.widget-view+json": {
       "model_id": "",
       "version_major": 2,
       "version_minor": 0
      },
      "text/plain": [
       "train epoch 9:   0%|          | 0/797 [00:00<?, ?it/s]"
      ]
     },
     "metadata": {},
     "output_type": "display_data"
    },
    {
     "name": "stderr",
     "output_type": "stream",
     "text": [
      "2024-07-19 16:26:10 | INFO | hw5.seq2seq | training loss: 3.9554\n",
      "2024-07-19 16:26:10 | INFO | hw5.seq2seq | begin validation\n"
     ]
    },
    {
     "data": {
      "application/vnd.jupyter.widget-view+json": {
       "model_id": "",
       "version_major": 2,
       "version_minor": 0
      },
      "text/plain": [
       "validation:   0%|          | 0/24 [00:00<?, ?it/s]"
      ]
     },
     "metadata": {},
     "output_type": "display_data"
    },
    {
     "name": "stderr",
     "output_type": "stream",
     "text": [
      "2024-07-19 16:26:35 | INFO | hw5.seq2seq | example source: and there are several reasons for this .\n",
      "2024-07-19 16:26:35 | INFO | hw5.seq2seq | example hypothesis: 這對此有許多原因 。\n",
      "2024-07-19 16:26:35 | INFO | hw5.seq2seq | example reference: 這有幾個原因\n",
      "2024-07-19 16:26:35 | INFO | hw5.seq2seq | validation loss:\t3.7673\n",
      "2024-07-19 16:26:35 | INFO | hw5.seq2seq | BLEU = 20.25 54.2/28.5/15.8/9.3 (BP = 0.928 ratio = 0.931 hyp_len = 103569 ref_len = 111296)\n",
      "2024-07-19 16:26:36 | INFO | hw5.seq2seq | saved epoch checkpoint: /mnt/e/Workspace/NSYSU/Lab/checkpoints/rnn/checkpoint9.pt\n",
      "2024-07-19 16:26:36 | INFO | hw5.seq2seq | end of epoch 9\n",
      "2024-07-19 16:26:36 | INFO | fairseq.data.iterators | grouped total_num_itrs = 797\n"
     ]
    },
    {
     "data": {
      "application/vnd.jupyter.widget-view+json": {
       "model_id": "",
       "version_major": 2,
       "version_minor": 0
      },
      "text/plain": [
       "train epoch 10:   0%|          | 0/797 [00:00<?, ?it/s]"
      ]
     },
     "metadata": {},
     "output_type": "display_data"
    },
    {
     "name": "stderr",
     "output_type": "stream",
     "text": [
      "2024-07-19 16:28:45 | INFO | hw5.seq2seq | training loss: 3.9012\n",
      "2024-07-19 16:28:45 | INFO | hw5.seq2seq | begin validation\n"
     ]
    },
    {
     "data": {
      "application/vnd.jupyter.widget-view+json": {
       "model_id": "",
       "version_major": 2,
       "version_minor": 0
      },
      "text/plain": [
       "validation:   0%|          | 0/24 [00:00<?, ?it/s]"
      ]
     },
     "metadata": {},
     "output_type": "display_data"
    },
    {
     "name": "stderr",
     "output_type": "stream",
     "text": [
      "2024-07-19 16:29:09 | INFO | hw5.seq2seq | example source: what if we could replace them and all the asphalt that comes with them with drones and robots that could rescue people from burning buildings ?\n",
      "2024-07-19 16:29:09 | INFO | hw5.seq2seq | example hypothesis: 如果我們能把它們取代 , 所有和他們一起用無人機和機器人來拯救人們 , 能拯救人們的燃燒建築嗎 ?\n",
      "2024-07-19 16:29:09 | INFO | hw5.seq2seq | example reference: 假如我們能以無人機和機器人來取代消防車和瀝青 , 把人從火場裡救出來呢 ?\n",
      "2024-07-19 16:29:09 | INFO | hw5.seq2seq | validation loss:\t3.7223\n",
      "2024-07-19 16:29:09 | INFO | hw5.seq2seq | BLEU = 20.59 54.7/29.0/16.2/9.5 (BP = 0.926 ratio = 0.929 hyp_len = 103400 ref_len = 111296)\n",
      "2024-07-19 16:29:10 | INFO | hw5.seq2seq | saved epoch checkpoint: /mnt/e/Workspace/NSYSU/Lab/checkpoints/rnn/checkpoint10.pt\n",
      "2024-07-19 16:29:10 | INFO | hw5.seq2seq | end of epoch 10\n",
      "2024-07-19 16:29:10 | INFO | fairseq.data.iterators | grouped total_num_itrs = 797\n"
     ]
    },
    {
     "data": {
      "application/vnd.jupyter.widget-view+json": {
       "model_id": "",
       "version_major": 2,
       "version_minor": 0
      },
      "text/plain": [
       "train epoch 11:   0%|          | 0/797 [00:00<?, ?it/s]"
      ]
     },
     "metadata": {},
     "output_type": "display_data"
    },
    {
     "name": "stderr",
     "output_type": "stream",
     "text": [
      "2024-07-19 16:31:20 | INFO | hw5.seq2seq | training loss: 3.8581\n",
      "2024-07-19 16:31:20 | INFO | hw5.seq2seq | begin validation\n"
     ]
    },
    {
     "data": {
      "application/vnd.jupyter.widget-view+json": {
       "model_id": "",
       "version_major": 2,
       "version_minor": 0
      },
      "text/plain": [
       "validation:   0%|          | 0/24 [00:00<?, ?it/s]"
      ]
     },
     "metadata": {},
     "output_type": "display_data"
    },
    {
     "name": "stderr",
     "output_type": "stream",
     "text": [
      "2024-07-19 16:31:43 | INFO | hw5.seq2seq | example source: why do none of these places have any of the charming characteristics of our older cities ?\n",
      "2024-07-19 16:31:43 | INFO | hw5.seq2seq | example hypothesis: 為什麼這些地方沒有任何一個適當的城市 ?\n",
      "2024-07-19 16:31:43 | INFO | hw5.seq2seq | example reference: 為什麼這些地方都沒有我們老城區的迷人特色 ?\n",
      "2024-07-19 16:31:43 | INFO | hw5.seq2seq | validation loss:\t3.6918\n",
      "2024-07-19 16:31:43 | INFO | hw5.seq2seq | BLEU = 20.40 56.7/30.4/17.1/10.1 (BP = 0.874 ratio = 0.882 hyp_len = 98116 ref_len = 111296)\n",
      "2024-07-19 16:31:44 | INFO | hw5.seq2seq | saved epoch checkpoint: /mnt/e/Workspace/NSYSU/Lab/checkpoints/rnn/checkpoint11.pt\n",
      "2024-07-19 16:31:44 | INFO | hw5.seq2seq | end of epoch 11\n",
      "2024-07-19 16:31:44 | INFO | fairseq.data.iterators | grouped total_num_itrs = 797\n"
     ]
    },
    {
     "data": {
      "application/vnd.jupyter.widget-view+json": {
       "model_id": "",
       "version_major": 2,
       "version_minor": 0
      },
      "text/plain": [
       "train epoch 12:   0%|          | 0/797 [00:00<?, ?it/s]"
      ]
     },
     "metadata": {},
     "output_type": "display_data"
    },
    {
     "name": "stderr",
     "output_type": "stream",
     "text": [
      "2024-07-19 16:33:53 | INFO | hw5.seq2seq | training loss: 3.8216\n",
      "2024-07-19 16:33:53 | INFO | hw5.seq2seq | begin validation\n"
     ]
    },
    {
     "data": {
      "application/vnd.jupyter.widget-view+json": {
       "model_id": "",
       "version_major": 2,
       "version_minor": 0
      },
      "text/plain": [
       "validation:   0%|          | 0/24 [00:00<?, ?it/s]"
      ]
     },
     "metadata": {},
     "output_type": "display_data"
    },
    {
     "name": "stderr",
     "output_type": "stream",
     "text": [
      "2024-07-19 16:34:20 | INFO | hw5.seq2seq | example source: but could they have predicted this unprecedented spike less than halfway through the earth's life ?\n",
      "2024-07-19 16:34:20 | INFO | hw5.seq2seq | example hypothesis: 但他們是否能預測這種未預期的藥丸 , 比地球的一半還少 ?\n",
      "2024-07-19 16:34:20 | INFO | hw5.seq2seq | example reference: 但他們是否曾預測到這在地球壽命不到一半的時點會產生前所未有的生命活動高峰期呢 ?\n",
      "2024-07-19 16:34:20 | INFO | hw5.seq2seq | validation loss:\t3.6752\n",
      "2024-07-19 16:34:20 | INFO | hw5.seq2seq | BLEU = 21.32 55.1/29.5/16.7/10.0 (BP = 0.934 ratio = 0.936 hyp_len = 104214 ref_len = 111296)\n",
      "2024-07-19 16:34:21 | INFO | hw5.seq2seq | saved epoch checkpoint: /mnt/e/Workspace/NSYSU/Lab/checkpoints/rnn/checkpoint12.pt\n",
      "2024-07-19 16:34:21 | INFO | hw5.seq2seq | end of epoch 12\n",
      "2024-07-19 16:34:21 | INFO | fairseq.data.iterators | grouped total_num_itrs = 797\n"
     ]
    },
    {
     "data": {
      "application/vnd.jupyter.widget-view+json": {
       "model_id": "",
       "version_major": 2,
       "version_minor": 0
      },
      "text/plain": [
       "train epoch 13:   0%|          | 0/797 [00:00<?, ?it/s]"
      ]
     },
     "metadata": {},
     "output_type": "display_data"
    },
    {
     "name": "stderr",
     "output_type": "stream",
     "text": [
      "2024-07-19 16:36:30 | INFO | hw5.seq2seq | training loss: 3.7895\n",
      "2024-07-19 16:36:30 | INFO | hw5.seq2seq | begin validation\n"
     ]
    },
    {
     "data": {
      "application/vnd.jupyter.widget-view+json": {
       "model_id": "5e0ed04701c54b52904d759489485818",
       "version_major": 2,
       "version_minor": 0
      },
      "text/plain": [
       "validation:   0%|          | 0/24 [00:00<?, ?it/s]"
      ]
     },
     "metadata": {},
     "output_type": "display_data"
    },
    {
     "name": "stderr",
     "output_type": "stream",
     "text": [
      "2024-07-19 16:36:52 | INFO | hw5.seq2seq | example source: and as you can see here , they can avoid delicate organs and still reach the targets they're aiming for .\n",
      "2024-07-19 16:36:52 | INFO | hw5.seq2seq | example hypothesis: 如你所見 , 它們可以避免降低器官 , 還能達到目標 。\n",
      "2024-07-19 16:36:52 | INFO | hw5.seq2seq | example reference: 如你所見 , 他們可以避開脆弱的器官在需要的地方插針\n",
      "2024-07-19 16:36:52 | INFO | hw5.seq2seq | validation loss:\t3.6447\n",
      "2024-07-19 16:36:52 | INFO | hw5.seq2seq | BLEU = 21.19 57.2/31.0/17.6/10.5 (BP = 0.887 ratio = 0.893 hyp_len = 99360 ref_len = 111296)\n",
      "2024-07-19 16:36:53 | INFO | hw5.seq2seq | saved epoch checkpoint: /mnt/e/Workspace/NSYSU/Lab/checkpoints/rnn/checkpoint13.pt\n",
      "2024-07-19 16:36:53 | INFO | hw5.seq2seq | end of epoch 13\n",
      "2024-07-19 16:36:53 | INFO | fairseq.data.iterators | grouped total_num_itrs = 797\n"
     ]
    },
    {
     "data": {
      "application/vnd.jupyter.widget-view+json": {
       "model_id": "7774a23d230d4abfa769e529482cf4db",
       "version_major": 2,
       "version_minor": 0
      },
      "text/plain": [
       "train epoch 14:   0%|          | 0/797 [00:00<?, ?it/s]"
      ]
     },
     "metadata": {},
     "output_type": "display_data"
    },
    {
     "name": "stderr",
     "output_type": "stream",
     "text": [
      "2024-07-19 16:39:01 | INFO | hw5.seq2seq | training loss: 3.7636\n",
      "2024-07-19 16:39:01 | INFO | hw5.seq2seq | begin validation\n"
     ]
    },
    {
     "data": {
      "application/vnd.jupyter.widget-view+json": {
       "model_id": "d214c87ca43e46128466e2a33984280c",
       "version_major": 2,
       "version_minor": 0
      },
      "text/plain": [
       "validation:   0%|          | 0/24 [00:00<?, ?it/s]"
      ]
     },
     "metadata": {},
     "output_type": "display_data"
    },
    {
     "name": "stderr",
     "output_type": "stream",
     "text": [
      "2024-07-19 16:39:24 | INFO | hw5.seq2seq | example source: it was like leaving our mark on society , to say , \" i was here , \" on the top of a building .\n",
      "2024-07-19 16:39:24 | INFO | hw5.seq2seq | example hypothesis: 就像離開社會的標誌 , 說: 「 我在這裡 」 , 在建築的頂端 。\n",
      "2024-07-19 16:39:24 | INFO | hw5.seq2seq | example reference: 就像在社會各處留下我們的印記 , 在城市頂端宣稱: 「 我曾在此 。 」\n",
      "2024-07-19 16:39:24 | INFO | hw5.seq2seq | validation loss:\t3.6249\n",
      "2024-07-19 16:39:24 | INFO | hw5.seq2seq | BLEU = 21.81 56.4/30.5/17.4/10.4 (BP = 0.924 ratio = 0.927 hyp_len = 103120 ref_len = 111296)\n",
      "2024-07-19 16:39:25 | INFO | hw5.seq2seq | saved epoch checkpoint: /mnt/e/Workspace/NSYSU/Lab/checkpoints/rnn/checkpoint14.pt\n",
      "2024-07-19 16:39:26 | INFO | hw5.seq2seq | end of epoch 14\n",
      "2024-07-19 16:39:26 | INFO | fairseq.data.iterators | grouped total_num_itrs = 797\n"
     ]
    },
    {
     "data": {
      "application/vnd.jupyter.widget-view+json": {
       "model_id": "c20595df607b4aadb6e7c57cfb2d7bc8",
       "version_major": 2,
       "version_minor": 0
      },
      "text/plain": [
       "train epoch 15:   0%|          | 0/797 [00:00<?, ?it/s]"
      ]
     },
     "metadata": {},
     "output_type": "display_data"
    },
    {
     "name": "stderr",
     "output_type": "stream",
     "text": [
      "2024-07-19 16:41:34 | INFO | hw5.seq2seq | training loss: 3.7419\n",
      "2024-07-19 16:41:34 | INFO | hw5.seq2seq | begin validation\n"
     ]
    },
    {
     "data": {
      "application/vnd.jupyter.widget-view+json": {
       "model_id": "c3bece4c1a694ef5a195d8a7c86895e1",
       "version_major": 2,
       "version_minor": 0
      },
      "text/plain": [
       "validation:   0%|          | 0/24 [00:00<?, ?it/s]"
      ]
     },
     "metadata": {},
     "output_type": "display_data"
    },
    {
     "name": "stderr",
     "output_type": "stream",
     "text": [
      "2024-07-19 16:41:55 | INFO | hw5.seq2seq | example source: remember the last time you tried to move a heavy object across the floor , and you could just feel something resisting you ?\n",
      "2024-07-19 16:41:55 | INFO | hw5.seq2seq | example hypothesis: 記住你最後一次嘗試在地板上移動重大物體 , 你可以感覺到抗拒你的東西嗎 ?\n",
      "2024-07-19 16:41:55 | INFO | hw5.seq2seq | example reference: 還記得嘗試挪動地板上的重物時 , 卻感覺受到阻擋嗎 ?\n",
      "2024-07-19 16:41:55 | INFO | hw5.seq2seq | validation loss:\t3.6089\n",
      "2024-07-19 16:41:55 | INFO | hw5.seq2seq | BLEU = 21.79 57.4/31.3/18.0/10.9 (BP = 0.895 ratio = 0.900 hyp_len = 100137 ref_len = 111296)\n",
      "2024-07-19 16:41:56 | INFO | hw5.seq2seq | saved epoch checkpoint: /mnt/e/Workspace/NSYSU/Lab/checkpoints/rnn/checkpoint15.pt\n",
      "2024-07-19 16:41:56 | INFO | hw5.seq2seq | end of epoch 15\n",
      "2024-07-19 16:41:56 | INFO | fairseq.data.iterators | grouped total_num_itrs = 797\n"
     ]
    },
    {
     "data": {
      "application/vnd.jupyter.widget-view+json": {
       "model_id": "d0ec3bf0ec7046f1a640f35b71fa2bd1",
       "version_major": 2,
       "version_minor": 0
      },
      "text/plain": [
       "train epoch 16:   0%|          | 0/797 [00:00<?, ?it/s]"
      ]
     },
     "metadata": {},
     "output_type": "display_data"
    },
    {
     "name": "stderr",
     "output_type": "stream",
     "text": [
      "2024-07-19 16:44:05 | INFO | hw5.seq2seq | training loss: 3.7205\n",
      "2024-07-19 16:44:05 | INFO | hw5.seq2seq | begin validation\n"
     ]
    },
    {
     "data": {
      "application/vnd.jupyter.widget-view+json": {
       "model_id": "415a3b00a8c24b019a4554fd0c3d074d",
       "version_major": 2,
       "version_minor": 0
      },
      "text/plain": [
       "validation:   0%|          | 0/24 [00:00<?, ?it/s]"
      ]
     },
     "metadata": {},
     "output_type": "display_data"
    },
    {
     "name": "stderr",
     "output_type": "stream",
     "text": [
      "2024-07-19 16:44:29 | INFO | hw5.seq2seq | example source: and we all know the perils and the risks that go along with this , but we're doing something that's much bigger than ourselves , and helping advance civilization , so the risk is worth the reward .\n",
      "2024-07-19 16:44:29 | INFO | hw5.seq2seq | example hypothesis: 我們都知道這些信息和風險 , 但我們在做比自己更大的事 , 幫助進步文明 , 所以風險是值得獎勵的 。\n",
      "2024-07-19 16:44:29 | INFO | hw5.seq2seq | example reference: 我們都知道這工作的危險和風險 , 但我們在做的事情超越了我們自身 , 協助文明的進步 , 冒這樣的風險是值得的 。\n",
      "2024-07-19 16:44:29 | INFO | hw5.seq2seq | validation loss:\t3.5972\n",
      "2024-07-19 16:44:29 | INFO | hw5.seq2seq | BLEU = 22.05 57.1/31.2/17.9/10.8 (BP = 0.911 ratio = 0.915 hyp_len = 101837 ref_len = 111296)\n",
      "2024-07-19 16:44:30 | INFO | hw5.seq2seq | saved epoch checkpoint: /mnt/e/Workspace/NSYSU/Lab/checkpoints/rnn/checkpoint16.pt\n",
      "2024-07-19 16:44:30 | INFO | hw5.seq2seq | end of epoch 16\n",
      "2024-07-19 16:44:30 | INFO | fairseq.data.iterators | grouped total_num_itrs = 797\n"
     ]
    },
    {
     "data": {
      "application/vnd.jupyter.widget-view+json": {
       "model_id": "75c1a6fffbc643c3ada9afd648b62928",
       "version_major": 2,
       "version_minor": 0
      },
      "text/plain": [
       "train epoch 17:   0%|          | 0/797 [00:00<?, ?it/s]"
      ]
     },
     "metadata": {},
     "output_type": "display_data"
    },
    {
     "name": "stderr",
     "output_type": "stream",
     "text": [
      "2024-07-19 16:46:40 | INFO | hw5.seq2seq | training loss: 3.7007\n",
      "2024-07-19 16:46:40 | INFO | hw5.seq2seq | begin validation\n"
     ]
    },
    {
     "data": {
      "application/vnd.jupyter.widget-view+json": {
       "model_id": "0066189172de4f1eaa0f09a549ad5a33",
       "version_major": 2,
       "version_minor": 0
      },
      "text/plain": [
       "validation:   0%|          | 0/24 [00:00<?, ?it/s]"
      ]
     },
     "metadata": {},
     "output_type": "display_data"
    },
    {
     "name": "stderr",
     "output_type": "stream",
     "text": [
      "2024-07-19 16:47:05 | INFO | hw5.seq2seq | example source: and when it vanishes , earth becomes mars .\n",
      "2024-07-19 16:47:05 | INFO | hw5.seq2seq | example hypothesis: 當它消失時 , 地球就會變成火星 。\n",
      "2024-07-19 16:47:05 | INFO | hw5.seq2seq | example reference: 而一旦它蒸發了 , 地球就變成如火星般 。\n",
      "2024-07-19 16:47:05 | INFO | hw5.seq2seq | validation loss:\t3.5774\n",
      "2024-07-19 16:47:05 | INFO | hw5.seq2seq | BLEU = 22.20 57.0/31.0/17.7/10.7 (BP = 0.923 ratio = 0.926 hyp_len = 103051 ref_len = 111296)\n",
      "2024-07-19 16:47:06 | INFO | hw5.seq2seq | saved epoch checkpoint: /mnt/e/Workspace/NSYSU/Lab/checkpoints/rnn/checkpoint17.pt\n",
      "2024-07-19 16:47:07 | INFO | hw5.seq2seq | end of epoch 17\n",
      "2024-07-19 16:47:07 | INFO | fairseq.data.iterators | grouped total_num_itrs = 797\n"
     ]
    },
    {
     "data": {
      "application/vnd.jupyter.widget-view+json": {
       "model_id": "dff33a6506004527b39666425bb6436a",
       "version_major": 2,
       "version_minor": 0
      },
      "text/plain": [
       "train epoch 18:   0%|          | 0/797 [00:00<?, ?it/s]"
      ]
     },
     "metadata": {},
     "output_type": "display_data"
    },
    {
     "name": "stderr",
     "output_type": "stream",
     "text": [
      "2024-07-19 16:49:16 | INFO | hw5.seq2seq | training loss: 3.6818\n",
      "2024-07-19 16:49:16 | INFO | hw5.seq2seq | begin validation\n"
     ]
    },
    {
     "data": {
      "application/vnd.jupyter.widget-view+json": {
       "model_id": "fc236dccfc3d4a659d89aea6a41d8b50",
       "version_major": 2,
       "version_minor": 0
      },
      "text/plain": [
       "validation:   0%|          | 0/24 [00:00<?, ?it/s]"
      ]
     },
     "metadata": {},
     "output_type": "display_data"
    },
    {
     "name": "stderr",
     "output_type": "stream",
     "text": [
      "2024-07-19 16:49:39 | INFO | hw5.seq2seq | example source: do you have the right metrics ?\n",
      "2024-07-19 16:49:39 | INFO | hw5.seq2seq | example hypothesis: 你有正確的衡量嗎 ?\n",
      "2024-07-19 16:49:39 | INFO | hw5.seq2seq | example reference: 你有對的度量標準嗎 ?\n",
      "2024-07-19 16:49:39 | INFO | hw5.seq2seq | validation loss:\t3.5672\n",
      "2024-07-19 16:49:39 | INFO | hw5.seq2seq | BLEU = 22.11 57.2/31.2/17.8/10.7 (BP = 0.915 ratio = 0.919 hyp_len = 102234 ref_len = 111296)\n",
      "2024-07-19 16:49:41 | INFO | hw5.seq2seq | saved epoch checkpoint: /mnt/e/Workspace/NSYSU/Lab/checkpoints/rnn/checkpoint18.pt\n",
      "2024-07-19 16:49:41 | INFO | hw5.seq2seq | end of epoch 18\n",
      "2024-07-19 16:49:41 | INFO | fairseq.data.iterators | grouped total_num_itrs = 797\n"
     ]
    },
    {
     "data": {
      "application/vnd.jupyter.widget-view+json": {
       "model_id": "d3ff0f59ef9a4f3880cdc64f96a25001",
       "version_major": 2,
       "version_minor": 0
      },
      "text/plain": [
       "train epoch 19:   0%|          | 0/797 [00:00<?, ?it/s]"
      ]
     },
     "metadata": {},
     "output_type": "display_data"
    },
    {
     "name": "stderr",
     "output_type": "stream",
     "text": [
      "2024-07-19 16:51:49 | INFO | hw5.seq2seq | training loss: 3.6700\n",
      "2024-07-19 16:51:49 | INFO | hw5.seq2seq | begin validation\n"
     ]
    },
    {
     "data": {
      "application/vnd.jupyter.widget-view+json": {
       "model_id": "3d92648df6e447b999d7cc72194d1aa5",
       "version_major": 2,
       "version_minor": 0
      },
      "text/plain": [
       "validation:   0%|          | 0/24 [00:00<?, ?it/s]"
      ]
     },
     "metadata": {},
     "output_type": "display_data"
    },
    {
     "name": "stderr",
     "output_type": "stream",
     "text": [
      "2024-07-19 16:52:11 | INFO | hw5.seq2seq | example source: but there is a countervailing force in the universe the tendency towards spontaneous order . and so that's our theme .\n",
      "2024-07-19 16:52:11 | INFO | hw5.seq2seq | example hypothesis: 但在宇宙中 , 宇宙中有一股反彈力 , 傾向於自發性秩序 。 這是我們的主題 。\n",
      "2024-07-19 16:52:11 | INFO | hw5.seq2seq | example reference: 但有個跟它抗衡的力量--趨動自發規律的傾向 , 也就是我們的主題 。\n",
      "2024-07-19 16:52:11 | INFO | hw5.seq2seq | validation loss:\t3.5535\n",
      "2024-07-19 16:52:11 | INFO | hw5.seq2seq | BLEU = 22.94 56.0/30.6/17.6/10.7 (BP = 0.963 ratio = 0.964 hyp_len = 107306 ref_len = 111296)\n",
      "2024-07-19 16:52:14 | INFO | hw5.seq2seq | saved epoch checkpoint: /mnt/e/Workspace/NSYSU/Lab/checkpoints/rnn/checkpoint19.pt\n",
      "2024-07-19 16:52:14 | INFO | hw5.seq2seq | end of epoch 19\n",
      "2024-07-19 16:52:14 | INFO | fairseq.data.iterators | grouped total_num_itrs = 797\n"
     ]
    },
    {
     "data": {
      "application/vnd.jupyter.widget-view+json": {
       "model_id": "7bc9b46dd81a40a58e62baf4a5332aa5",
       "version_major": 2,
       "version_minor": 0
      },
      "text/plain": [
       "train epoch 20:   0%|          | 0/797 [00:00<?, ?it/s]"
      ]
     },
     "metadata": {},
     "output_type": "display_data"
    },
    {
     "name": "stderr",
     "output_type": "stream",
     "text": [
      "2024-07-19 16:54:21 | INFO | hw5.seq2seq | training loss: 3.6543\n",
      "2024-07-19 16:54:21 | INFO | hw5.seq2seq | begin validation\n"
     ]
    },
    {
     "data": {
      "application/vnd.jupyter.widget-view+json": {
       "model_id": "1ce5e0ae4ed24c9dadfabef62e4a3c0b",
       "version_major": 2,
       "version_minor": 0
      },
      "text/plain": [
       "validation:   0%|          | 0/24 [00:00<?, ?it/s]"
      ]
     },
     "metadata": {},
     "output_type": "display_data"
    },
    {
     "name": "stderr",
     "output_type": "stream",
     "text": [
      "2024-07-19 16:54:46 | INFO | hw5.seq2seq | example source: and so we have an epidemic in this country of depression among impoverished people that's not being picked up and that's not being treated and that's not being addressed , and it's a tragedy of a grand order .\n",
      "2024-07-19 16:54:46 | INFO | hw5.seq2seq | example hypothesis: 所以 , 在這個國家 , 我們有一個流行病流行病 , 沒有被拿走的人 , 這不是被治療 , 這不是被處理的 , 而是一個很大的秩序悲劇 。\n",
      "2024-07-19 16:54:46 | INFO | hw5.seq2seq | example reference: 所以我們國家的低收入人群中 , 憂鬱症像傳染病一樣到處蔓延 , 卻沒有被關注和治療 。 這個問題一直沒有解決 , 變成了一個巨大的悲劇 。\n",
      "2024-07-19 16:54:46 | INFO | hw5.seq2seq | validation loss:\t3.5435\n",
      "2024-07-19 16:54:46 | INFO | hw5.seq2seq | BLEU = 22.53 57.5/31.5/18.0/11.0 (BP = 0.921 ratio = 0.924 hyp_len = 102857 ref_len = 111296)\n",
      "2024-07-19 16:54:47 | INFO | hw5.seq2seq | saved epoch checkpoint: /mnt/e/Workspace/NSYSU/Lab/checkpoints/rnn/checkpoint20.pt\n",
      "2024-07-19 16:54:47 | INFO | hw5.seq2seq | end of epoch 20\n",
      "2024-07-19 16:54:47 | INFO | fairseq.data.iterators | grouped total_num_itrs = 797\n"
     ]
    },
    {
     "data": {
      "application/vnd.jupyter.widget-view+json": {
       "model_id": "5cdbc7ed63f24441b2f77531a831a125",
       "version_major": 2,
       "version_minor": 0
      },
      "text/plain": [
       "train epoch 21:   0%|          | 0/797 [00:00<?, ?it/s]"
      ]
     },
     "metadata": {},
     "output_type": "display_data"
    },
    {
     "name": "stderr",
     "output_type": "stream",
     "text": [
      "2024-07-19 16:56:56 | INFO | hw5.seq2seq | training loss: 3.6408\n",
      "2024-07-19 16:56:56 | INFO | hw5.seq2seq | begin validation\n"
     ]
    },
    {
     "data": {
      "application/vnd.jupyter.widget-view+json": {
       "model_id": "8cf63c9a19374d8e843d57bbdce1da64",
       "version_major": 2,
       "version_minor": 0
      },
      "text/plain": [
       "validation:   0%|          | 0/24 [00:00<?, ?it/s]"
      ]
     },
     "metadata": {},
     "output_type": "display_data"
    },
    {
     "name": "stderr",
     "output_type": "stream",
     "text": [
      "2024-07-19 16:57:19 | INFO | hw5.seq2seq | example source: at 67 percent oxygen saturation , the normal is about 97 .\n",
      "2024-07-19 16:57:19 | INFO | hw5.seq2seq | example hypothesis: 在67%的氧氣溫度上 , 正常大約是97 。\n",
      "2024-07-19 16:57:19 | INFO | hw5.seq2seq | example reference: 她的血氧飽合度只有67% , 正常值是97% ,\n",
      "2024-07-19 16:57:19 | INFO | hw5.seq2seq | validation loss:\t3.5292\n",
      "2024-07-19 16:57:19 | INFO | hw5.seq2seq | BLEU = 22.50 58.0/31.9/18.4/11.2 (BP = 0.906 ratio = 0.910 hyp_len = 101300 ref_len = 111296)\n",
      "2024-07-19 16:57:20 | INFO | hw5.seq2seq | saved epoch checkpoint: /mnt/e/Workspace/NSYSU/Lab/checkpoints/rnn/checkpoint21.pt\n",
      "2024-07-19 16:57:20 | INFO | hw5.seq2seq | end of epoch 21\n",
      "2024-07-19 16:57:20 | INFO | fairseq.data.iterators | grouped total_num_itrs = 797\n"
     ]
    },
    {
     "data": {
      "application/vnd.jupyter.widget-view+json": {
       "model_id": "535edb26026a452789111b9b22f6207c",
       "version_major": 2,
       "version_minor": 0
      },
      "text/plain": [
       "train epoch 22:   0%|          | 0/797 [00:00<?, ?it/s]"
      ]
     },
     "metadata": {},
     "output_type": "display_data"
    },
    {
     "name": "stderr",
     "output_type": "stream",
     "text": [
      "2024-07-19 16:59:26 | INFO | hw5.seq2seq | training loss: 3.6286\n",
      "2024-07-19 16:59:26 | INFO | hw5.seq2seq | begin validation\n"
     ]
    },
    {
     "data": {
      "application/vnd.jupyter.widget-view+json": {
       "model_id": "c52fe3659e274fe9a94b4d4bc5223e0b",
       "version_major": 2,
       "version_minor": 0
      },
      "text/plain": [
       "validation:   0%|          | 0/24 [00:00<?, ?it/s]"
      ]
     },
     "metadata": {},
     "output_type": "display_data"
    },
    {
     "name": "stderr",
     "output_type": "stream",
     "text": [
      "2024-07-19 16:59:48 | INFO | hw5.seq2seq | example source: it gets it right 99 percent of the time .\n",
      "2024-07-19 16:59:48 | INFO | hw5.seq2seq | example hypothesis: 這是99%的時間 。\n",
      "2024-07-19 16:59:48 | INFO | hw5.seq2seq | example reference: 大約有99%的準確度 。\n",
      "2024-07-19 16:59:48 | INFO | hw5.seq2seq | validation loss:\t3.5360\n",
      "2024-07-19 16:59:48 | INFO | hw5.seq2seq | BLEU = 22.29 58.5/32.2/18.5/11.2 (BP = 0.890 ratio = 0.896 hyp_len = 99700 ref_len = 111296)\n",
      "2024-07-19 16:59:49 | INFO | hw5.seq2seq | saved epoch checkpoint: /mnt/e/Workspace/NSYSU/Lab/checkpoints/rnn/checkpoint22.pt\n",
      "2024-07-19 16:59:49 | INFO | hw5.seq2seq | end of epoch 22\n",
      "2024-07-19 16:59:49 | INFO | fairseq.data.iterators | grouped total_num_itrs = 797\n"
     ]
    },
    {
     "data": {
      "application/vnd.jupyter.widget-view+json": {
       "model_id": "dde0946491674bb4818929bbfa09ae6e",
       "version_major": 2,
       "version_minor": 0
      },
      "text/plain": [
       "train epoch 23:   0%|          | 0/797 [00:00<?, ?it/s]"
      ]
     },
     "metadata": {},
     "output_type": "display_data"
    },
    {
     "name": "stderr",
     "output_type": "stream",
     "text": [
      "2024-07-19 17:01:57 | INFO | hw5.seq2seq | training loss: 3.6203\n",
      "2024-07-19 17:01:57 | INFO | hw5.seq2seq | begin validation\n"
     ]
    },
    {
     "data": {
      "application/vnd.jupyter.widget-view+json": {
       "model_id": "a348471cc4bf4dc0a101b5c6ec43885c",
       "version_major": 2,
       "version_minor": 0
      },
      "text/plain": [
       "validation:   0%|          | 0/24 [00:00<?, ?it/s]"
      ]
     },
     "metadata": {},
     "output_type": "display_data"
    },
    {
     "name": "stderr",
     "output_type": "stream",
     "text": [
      "2024-07-19 17:02:20 | INFO | hw5.seq2seq | example source: and after being totally and completely obsessed with the mammoth richness and history of chinese culture , it was like this total relief to hear something so truly american and so truly awesome .\n",
      "2024-07-19 17:02:20 | INFO | hw5.seq2seq | example hypothesis: 在完全與中國文化的哺乳動物豐富和歷史完全迷惑之後 , 就好像這個完全的解放 , 能聽出真正的美國人 , 真的很棒 。\n",
      "2024-07-19 17:02:20 | INFO | hw5.seq2seq | example reference: 在完全沉迷於中國文化巨大的豐富與歷史性之後 , 再聽到這樣純正美式的東西完全就像一種解脫簡直太美妙了 。\n",
      "2024-07-19 17:02:20 | INFO | hw5.seq2seq | validation loss:\t3.5193\n",
      "2024-07-19 17:02:20 | INFO | hw5.seq2seq | BLEU = 22.69 57.9/31.9/18.4/11.2 (BP = 0.913 ratio = 0.917 hyp_len = 102028 ref_len = 111296)\n",
      "2024-07-19 17:02:23 | INFO | hw5.seq2seq | saved epoch checkpoint: /mnt/e/Workspace/NSYSU/Lab/checkpoints/rnn/checkpoint23.pt\n",
      "2024-07-19 17:02:23 | INFO | hw5.seq2seq | end of epoch 23\n",
      "2024-07-19 17:02:23 | INFO | fairseq.data.iterators | grouped total_num_itrs = 797\n"
     ]
    },
    {
     "data": {
      "application/vnd.jupyter.widget-view+json": {
       "model_id": "7037058edd664b99966ebd39cf047e9d",
       "version_major": 2,
       "version_minor": 0
      },
      "text/plain": [
       "train epoch 24:   0%|          | 0/797 [00:00<?, ?it/s]"
      ]
     },
     "metadata": {},
     "output_type": "display_data"
    },
    {
     "name": "stderr",
     "output_type": "stream",
     "text": [
      "2024-07-19 17:04:29 | INFO | hw5.seq2seq | training loss: 3.6074\n",
      "2024-07-19 17:04:29 | INFO | hw5.seq2seq | begin validation\n"
     ]
    },
    {
     "data": {
      "application/vnd.jupyter.widget-view+json": {
       "model_id": "4bf98eac7a64494c9f83dee25ee0ade4",
       "version_major": 2,
       "version_minor": 0
      },
      "text/plain": [
       "validation:   0%|          | 0/24 [00:00<?, ?it/s]"
      ]
     },
     "metadata": {},
     "output_type": "display_data"
    },
    {
     "name": "stderr",
     "output_type": "stream",
     "text": [
      "2024-07-19 17:04:53 | INFO | hw5.seq2seq | example source: and if countries like the philippines , which have grown more slowly , could accelerate progress , then we could get a lot closer .\n",
      "2024-07-19 17:04:53 | INFO | hw5.seq2seq | example hypothesis: 如果像菲律賓這樣的國家更慢地成長 , 可以加速進展 , 那麼我們就能更接近 。\n",
      "2024-07-19 17:04:53 | INFO | hw5.seq2seq | example reference: 如果像菲律賓這類成長比較慢的國家能夠加速進展 , 那麼我們就能離目標更近 。\n",
      "2024-07-19 17:04:53 | INFO | hw5.seq2seq | validation loss:\t3.5144\n",
      "2024-07-19 17:04:53 | INFO | hw5.seq2seq | BLEU = 23.39 56.5/31.1/18.0/11.0 (BP = 0.963 ratio = 0.964 hyp_len = 107265 ref_len = 111296)\n",
      "2024-07-19 17:04:54 | INFO | hw5.seq2seq | saved epoch checkpoint: /mnt/e/Workspace/NSYSU/Lab/checkpoints/rnn/checkpoint24.pt\n",
      "2024-07-19 17:04:55 | INFO | hw5.seq2seq | end of epoch 24\n",
      "2024-07-19 17:04:55 | INFO | fairseq.data.iterators | grouped total_num_itrs = 797\n"
     ]
    },
    {
     "data": {
      "application/vnd.jupyter.widget-view+json": {
       "model_id": "55037c187a8645eea7bd3b6027e538e5",
       "version_major": 2,
       "version_minor": 0
      },
      "text/plain": [
       "train epoch 25:   0%|          | 0/797 [00:00<?, ?it/s]"
      ]
     },
     "metadata": {},
     "output_type": "display_data"
    },
    {
     "name": "stderr",
     "output_type": "stream",
     "text": [
      "2024-07-19 17:07:02 | INFO | hw5.seq2seq | training loss: 3.5994\n",
      "2024-07-19 17:07:02 | INFO | hw5.seq2seq | begin validation\n"
     ]
    },
    {
     "data": {
      "application/vnd.jupyter.widget-view+json": {
       "model_id": "f7ced41d5d5348ed858050ad4c9ae9be",
       "version_major": 2,
       "version_minor": 0
      },
      "text/plain": [
       "validation:   0%|          | 0/24 [00:00<?, ?it/s]"
      ]
     },
     "metadata": {},
     "output_type": "display_data"
    },
    {
     "name": "stderr",
     "output_type": "stream",
     "text": [
      "2024-07-19 17:07:23 | INFO | hw5.seq2seq | example source: but if you can save them and you can freeze them , and you can have a surrogate mother , it means that you've decoupled sex from time .\n",
      "2024-07-19 17:07:23 | INFO | hw5.seq2seq | example hypothesis: 但如果你能拯救他們 , 你就可以冷凍它們 , 你可以有一個激勵母親 , 這意味著你從時間分解性行為 。\n",
      "2024-07-19 17:07:23 | INFO | hw5.seq2seq | example reference: 但若你可以保存、冷凍它們 , 而且還能夠請代理孕母的話 , 代表何時懷胎也控制在我們手中 。\n",
      "2024-07-19 17:07:23 | INFO | hw5.seq2seq | validation loss:\t3.5067\n",
      "2024-07-19 17:07:23 | INFO | hw5.seq2seq | BLEU = 22.67 58.6/32.4/18.7/11.4 (BP = 0.898 ratio = 0.903 hyp_len = 100520 ref_len = 111296)\n",
      "2024-07-19 17:07:26 | INFO | hw5.seq2seq | saved epoch checkpoint: /mnt/e/Workspace/NSYSU/Lab/checkpoints/rnn/checkpoint25.pt\n",
      "2024-07-19 17:07:26 | INFO | hw5.seq2seq | end of epoch 25\n",
      "2024-07-19 17:07:26 | INFO | fairseq.data.iterators | grouped total_num_itrs = 797\n"
     ]
    },
    {
     "data": {
      "application/vnd.jupyter.widget-view+json": {
       "model_id": "42716961167d445e8bf1f9b9efe1d135",
       "version_major": 2,
       "version_minor": 0
      },
      "text/plain": [
       "train epoch 26:   0%|          | 0/797 [00:00<?, ?it/s]"
      ]
     },
     "metadata": {},
     "output_type": "display_data"
    },
    {
     "name": "stderr",
     "output_type": "stream",
     "text": [
      "2024-07-19 17:09:34 | INFO | hw5.seq2seq | training loss: 3.5909\n",
      "2024-07-19 17:09:34 | INFO | hw5.seq2seq | begin validation\n"
     ]
    },
    {
     "data": {
      "application/vnd.jupyter.widget-view+json": {
       "model_id": "",
       "version_major": 2,
       "version_minor": 0
      },
      "text/plain": [
       "validation:   0%|          | 0/24 [00:00<?, ?it/s]"
      ]
     },
     "metadata": {},
     "output_type": "display_data"
    },
    {
     "name": "stderr",
     "output_type": "stream",
     "text": [
      "2024-07-19 17:09:57 | INFO | hw5.seq2seq | example source: this coral is eight meters tall , right .\n",
      "2024-07-19 17:09:57 | INFO | hw5.seq2seq | example hypothesis: 這條珊瑚是8公尺高 , 對 。\n",
      "2024-07-19 17:09:57 | INFO | hw5.seq2seq | example reference: 這珊瑚長達八公尺 。\n",
      "2024-07-19 17:09:57 | INFO | hw5.seq2seq | validation loss:\t3.5048\n",
      "2024-07-19 17:09:57 | INFO | hw5.seq2seq | BLEU = 22.55 58.7/32.4/18.7/11.4 (BP = 0.893 ratio = 0.898 hyp_len = 99946 ref_len = 111296)\n",
      "2024-07-19 17:09:58 | INFO | hw5.seq2seq | saved epoch checkpoint: /mnt/e/Workspace/NSYSU/Lab/checkpoints/rnn/checkpoint26.pt\n",
      "2024-07-19 17:09:58 | INFO | hw5.seq2seq | end of epoch 26\n",
      "2024-07-19 17:09:58 | INFO | fairseq.data.iterators | grouped total_num_itrs = 797\n"
     ]
    },
    {
     "data": {
      "application/vnd.jupyter.widget-view+json": {
       "model_id": "",
       "version_major": 2,
       "version_minor": 0
      },
      "text/plain": [
       "train epoch 27:   0%|          | 0/797 [00:00<?, ?it/s]"
      ]
     },
     "metadata": {},
     "output_type": "display_data"
    },
    {
     "name": "stderr",
     "output_type": "stream",
     "text": [
      "2024-07-19 17:12:09 | INFO | hw5.seq2seq | training loss: 3.5833\n",
      "2024-07-19 17:12:09 | INFO | hw5.seq2seq | begin validation\n"
     ]
    },
    {
     "data": {
      "application/vnd.jupyter.widget-view+json": {
       "model_id": "",
       "version_major": 2,
       "version_minor": 0
      },
      "text/plain": [
       "validation:   0%|          | 0/24 [00:00<?, ?it/s]"
      ]
     },
     "metadata": {},
     "output_type": "display_data"
    },
    {
     "name": "stderr",
     "output_type": "stream",
     "text": [
      "2024-07-19 17:12:31 | INFO | hw5.seq2seq | example source: sacred son of air , father of fury , heat dancing vigorously between perfection and beauty .\n",
      "2024-07-19 17:12:31 | INFO | hw5.seq2seq | example hypothesis: 神聖的兒子 , 空氣的父親 , 溫度在完美和美之間跳舞 。\n",
      "2024-07-19 17:12:31 | INFO | hw5.seq2seq | example reference: 神聖的空氣之子 , 暴怒之父 , 熱量在狂舞 , 時而完美 , 時而絢麗 ,\n",
      "2024-07-19 17:12:31 | INFO | hw5.seq2seq | validation loss:\t3.4923\n",
      "2024-07-19 17:12:31 | INFO | hw5.seq2seq | BLEU = 23.24 58.0/32.2/18.7/11.4 (BP = 0.925 ratio = 0.928 hyp_len = 103266 ref_len = 111296)\n",
      "2024-07-19 17:12:33 | INFO | hw5.seq2seq | saved epoch checkpoint: /mnt/e/Workspace/NSYSU/Lab/checkpoints/rnn/checkpoint27.pt\n",
      "2024-07-19 17:12:33 | INFO | hw5.seq2seq | end of epoch 27\n",
      "2024-07-19 17:12:33 | INFO | fairseq.data.iterators | grouped total_num_itrs = 797\n"
     ]
    },
    {
     "data": {
      "application/vnd.jupyter.widget-view+json": {
       "model_id": "",
       "version_major": 2,
       "version_minor": 0
      },
      "text/plain": [
       "train epoch 28:   0%|          | 0/797 [00:00<?, ?it/s]"
      ]
     },
     "metadata": {},
     "output_type": "display_data"
    },
    {
     "name": "stderr",
     "output_type": "stream",
     "text": [
      "2024-07-19 17:14:40 | INFO | hw5.seq2seq | training loss: 3.5761\n",
      "2024-07-19 17:14:40 | INFO | hw5.seq2seq | begin validation\n"
     ]
    },
    {
     "data": {
      "application/vnd.jupyter.widget-view+json": {
       "model_id": "",
       "version_major": 2,
       "version_minor": 0
      },
      "text/plain": [
       "validation:   0%|          | 0/24 [00:00<?, ?it/s]"
      ]
     },
     "metadata": {},
     "output_type": "display_data"
    },
    {
     "name": "stderr",
     "output_type": "stream",
     "text": [
      "2024-07-19 17:15:02 | INFO | hw5.seq2seq | example source: this makes university administrators very nervous , because girls don't want to go to schools that don't have boys .\n",
      "2024-07-19 17:15:02 | INFO | hw5.seq2seq | example hypothesis: 這讓大學管理員非常緊張 , 因為女孩們不想去學校 , 沒有男孩的學校 。\n",
      "2024-07-19 17:15:02 | INFO | hw5.seq2seq | example reference: 這讓大學的負責人非常的緊張 , 因為女生一般不希望到沒有男生的學校 。\n",
      "2024-07-19 17:15:02 | INFO | hw5.seq2seq | validation loss:\t3.4846\n",
      "2024-07-19 17:15:02 | INFO | hw5.seq2seq | BLEU = 23.06 58.4/32.3/18.7/11.5 (BP = 0.913 ratio = 0.917 hyp_len = 102049 ref_len = 111296)\n",
      "2024-07-19 17:15:03 | INFO | hw5.seq2seq | saved epoch checkpoint: /mnt/e/Workspace/NSYSU/Lab/checkpoints/rnn/checkpoint28.pt\n",
      "2024-07-19 17:15:03 | INFO | hw5.seq2seq | end of epoch 28\n",
      "2024-07-19 17:15:03 | INFO | fairseq.data.iterators | grouped total_num_itrs = 797\n"
     ]
    },
    {
     "data": {
      "application/vnd.jupyter.widget-view+json": {
       "model_id": "",
       "version_major": 2,
       "version_minor": 0
      },
      "text/plain": [
       "train epoch 29:   0%|          | 0/797 [00:00<?, ?it/s]"
      ]
     },
     "metadata": {},
     "output_type": "display_data"
    },
    {
     "name": "stderr",
     "output_type": "stream",
     "text": [
      "2024-07-19 17:17:13 | INFO | hw5.seq2seq | training loss: 3.5682\n",
      "2024-07-19 17:17:13 | INFO | hw5.seq2seq | begin validation\n"
     ]
    },
    {
     "data": {
      "application/vnd.jupyter.widget-view+json": {
       "model_id": "",
       "version_major": 2,
       "version_minor": 0
      },
      "text/plain": [
       "validation:   0%|          | 0/24 [00:00<?, ?it/s]"
      ]
     },
     "metadata": {},
     "output_type": "display_data"
    },
    {
     "name": "stderr",
     "output_type": "stream",
     "text": [
      "2024-07-19 17:17:36 | INFO | hw5.seq2seq | example source: we don't ever want to do that actually . we want to be inside the universe because there's no such thing as standing outside the universe .\n",
      "2024-07-19 17:17:36 | INFO | hw5.seq2seq | example hypothesis: 我們其實不想這樣做 。 我們想要在宇宙裡 , 因為宇宙中沒有任何東西可以站在外面 。\n",
      "2024-07-19 17:17:36 | INFO | hw5.seq2seq | example reference: 那並不是我們想做的部份 ; 我們想在宇宙以內而非以外因為根本沒有所謂的站在宇宙以外的這種事\n",
      "2024-07-19 17:17:36 | INFO | hw5.seq2seq | validation loss:\t3.4758\n",
      "2024-07-19 17:17:36 | INFO | hw5.seq2seq | BLEU = 23.49 57.6/32.0/18.6/11.4 (BP = 0.940 ratio = 0.942 hyp_len = 104824 ref_len = 111296)\n",
      "2024-07-19 17:17:37 | INFO | hw5.seq2seq | saved epoch checkpoint: /mnt/e/Workspace/NSYSU/Lab/checkpoints/rnn/checkpoint29.pt\n",
      "2024-07-19 17:17:38 | INFO | hw5.seq2seq | end of epoch 29\n",
      "2024-07-19 17:17:38 | INFO | fairseq.data.iterators | grouped total_num_itrs = 797\n"
     ]
    },
    {
     "data": {
      "application/vnd.jupyter.widget-view+json": {
       "model_id": "",
       "version_major": 2,
       "version_minor": 0
      },
      "text/plain": [
       "train epoch 30:   0%|          | 0/797 [00:00<?, ?it/s]"
      ]
     },
     "metadata": {},
     "output_type": "display_data"
    },
    {
     "name": "stderr",
     "output_type": "stream",
     "text": [
      "2024-07-19 17:19:46 | INFO | hw5.seq2seq | training loss: 3.5623\n",
      "2024-07-19 17:19:46 | INFO | hw5.seq2seq | begin validation\n"
     ]
    },
    {
     "data": {
      "application/vnd.jupyter.widget-view+json": {
       "model_id": "",
       "version_major": 2,
       "version_minor": 0
      },
      "text/plain": [
       "validation:   0%|          | 0/24 [00:00<?, ?it/s]"
      ]
     },
     "metadata": {},
     "output_type": "display_data"
    },
    {
     "name": "stderr",
     "output_type": "stream",
     "text": [
      "2024-07-19 17:20:09 | INFO | hw5.seq2seq | example source: so let's explore , through a couple of examples , the impact that technologies built to drive humancomputer symbiosis have had in recent time .\n",
      "2024-07-19 17:20:09 | INFO | hw5.seq2seq | example hypothesis: 所以 , 透過幾個例子 , 我們來探究 , 科技所造成的影響 , 來驅動人類的交通符號最近才出現的影響 。\n",
      "2024-07-19 17:20:09 | INFO | hw5.seq2seq | example reference: 所以現在來就來透過一些例子來探討 , 近年來 , 當科技是被製造出來用以驅使人類和電腦的合作時所帶來的影響力 。\n",
      "2024-07-19 17:20:09 | INFO | hw5.seq2seq | validation loss:\t3.4812\n",
      "2024-07-19 17:20:09 | INFO | hw5.seq2seq | BLEU = 23.25 58.5/32.4/18.9/11.6 (BP = 0.916 ratio = 0.920 hyp_len = 102359 ref_len = 111296)\n",
      "2024-07-19 17:20:10 | INFO | hw5.seq2seq | saved epoch checkpoint: /mnt/e/Workspace/NSYSU/Lab/checkpoints/rnn/checkpoint30.pt\n",
      "2024-07-19 17:20:10 | INFO | hw5.seq2seq | end of epoch 30\n"
     ]
    }
   ],
   "source": [
    "epoch_itr = load_data_iterator(task, \"train\", config.start_epoch, config.max_tokens, config.num_workers)\n",
    "# try_load_checkpoint(model, optimizer, name=config.resume)\n",
    "while epoch_itr.next_epoch_idx <= config.max_epoch:\n",
    "    # train for one epoch\n",
    "    train_one_epoch(epoch_itr, model, task, criterion, optimizer, config.accum_steps)\n",
    "    stats = validate_and_save(model, task, criterion, optimizer, epoch=epoch_itr.epoch)\n",
    "    logger.info(\"end of epoch {}\".format(epoch_itr.epoch))\n",
    "    epoch_itr = load_data_iterator(task, \"train\", epoch_itr.next_epoch_idx, config.max_tokens, config.num_workers)"
   ]
  },
  {
   "cell_type": "markdown",
   "metadata": {
    "id": "ZNQT8QmEENPY"
   },
   "source": [
    "# References"
   ]
  },
  {
   "cell_type": "markdown",
   "metadata": {
    "id": "tsnlJGnvENPb"
   },
   "source": [
    "1. <a name=ott2019fairseq></a>Ott, M., Edunov, S., Baevski, A., Fan, A., Gross, S., Ng, N., ... & Auli, M. (2019, June). fairseq: A Fast, Extensible Toolkit for Sequence Modeling. In Proceedings of the 2019 Conference of the North American Chapter of the Association for Computational Linguistics (Demonstrations) (pp. 48-53).\n",
    "2. <a name=vaswani2017></a>Vaswani, A., Shazeer, N., Parmar, N., Uszkoreit, J., Jones, L., Gomez, A. N., ... & Polosukhin, I. (2017, December). Attention is all you need. In Proceedings of the 31st International Conference on Neural Information Processing Systems (pp. 6000-6010).\n",
    "3. <a name=reimers-2020-multilingual-sentence-bert></a>Reimers, N., & Gurevych, I. (2020, November). Making Monolingual Sentence Embeddings Multilingual Using Knowledge Distillation. In Proceedings of the 2020 Conference on Empirical Methods in Natural Language Processing (EMNLP) (pp. 4512-4525).\n",
    "4. <a name=tiedemann2012parallel></a>Tiedemann, J. (2012, May). Parallel Data, Tools and Interfaces in OPUS. In Lrec (Vol. 2012, pp. 2214-2218).\n",
    "5. <a name=kudo-richardson-2018-sentencepiece></a>Kudo, T., & Richardson, J. (2018, November). SentencePiece: A simple and language independent subword tokenizer and detokenizer for Neural Text Processing. In Proceedings of the 2018 Conference on Empirical Methods in Natural Language Processing: System Demonstrations (pp. 66-71).\n",
    "6. <a name=sennrich-etal-2016-improving></a>Sennrich, R., Haddow, B., & Birch, A. (2016, August). Improving Neural Machine Translation Models with Monolingual Data. In Proceedings of the 54th Annual Meeting of the Association for Computational Linguistics (Volume 1: Long Papers) (pp. 86-96).\n",
    "7. <a name=edunov-etal-2018-understanding></a>Edunov, S., Ott, M., Auli, M., & Grangier, D. (2018). Understanding Back-Translation at Scale. In Proceedings of the 2018 Conference on Empirical Methods in Natural Language Processing (pp. 489-500).\n",
    "8. https://github.com/ajinkyakulkarni14/TED-Multilingual-Parallel-Corpus\n",
    "9. https://ithelp.ithome.com.tw/articles/10233122\n",
    "10. https://nlp.seas.harvard.edu/2018/04/03/attention.html"
   ]
  },
  {
   "cell_type": "code",
   "execution_count": null,
   "metadata": {
    "id": "Fyc286dGENPb"
   },
   "outputs": [],
   "source": []
  }
 ],
 "metadata": {
  "colab": {
   "provenance": []
  },
  "kernelspec": {
   "display_name": "Python 3 (ipykernel)",
   "language": "python",
   "name": "python3"
  },
  "language_info": {
   "codemirror_mode": {
    "name": "ipython",
    "version": 3
   },
   "file_extension": ".py",
   "mimetype": "text/x-python",
   "name": "python",
   "nbconvert_exporter": "python",
   "pygments_lexer": "ipython3",
   "version": "3.9.19"
  }
 },
 "nbformat": 4,
 "nbformat_minor": 4
}
